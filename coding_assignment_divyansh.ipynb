{
 "cells": [
  {
   "cell_type": "code",
   "execution_count": 3,
   "metadata": {},
   "outputs": [],
   "source": [
    "import lightgbm as lgbm\n",
    "import matplotlib.pyplot as plt\n",
    "import numpy as np\n",
    "import pandas as pd\n",
    "from scipy.sparse import hstack\n",
    "import seaborn as sns\n",
    "from sklearn.linear_model import LinearRegression, Ridge\n",
    "from sklearn.metrics import mean_squared_error\n",
    "from sklearn.model_selection import GridSearchCV, PredefinedSplit\n",
    "from sklearn.preprocessing import OneHotEncoder, StandardScaler "
   ]
  },
  {
   "cell_type": "code",
   "execution_count": 180,
   "metadata": {},
   "outputs": [],
   "source": [
    "import warnings\n",
    "warnings.filterwarnings('ignore')"
   ]
  },
  {
   "cell_type": "code",
   "execution_count": 4,
   "metadata": {},
   "outputs": [],
   "source": [
    "df=pd.read_excel('DS_ML Coding Challenge Dataset.xlsx', engine='openpyxl', sheet_name=1)"
   ]
  },
  {
   "attachments": {},
   "cell_type": "markdown",
   "metadata": {},
   "source": [
    "## Index:\n",
    "1. Problem definition\n",
    "2. EDA\n",
    "3. Preprocessing and Feature Engineering\n",
    "4. Selecting performance metric\n",
    "5. Modelling"
   ]
  },
  {
   "attachments": {},
   "cell_type": "markdown",
   "metadata": {},
   "source": [
    "# 1. Problem definition\n",
    "\n",
    "- Every row represents the sourcing of one unit of a particular product combination.\n",
    "- A unique product combination comprises of attributes mentioned in Columns A,B,C,D,E,F\n",
    "- Since each row represents 1 unit of sourcing, therefore, there are multiple rows with the same combination in the training dataset. Imagine buying 1 quantity being represented as a single row.\n",
    "- July 2020 to May 2021 is the training set and June 2021 is the test set. So using the 11 months data (Training Set: June 2020 to May 2021) the forecast/predict the June 2021 number (Test Set) has to be made\n",
    "- June 2021 has only a single value for each combination as that is the test set (target)."
   ]
  },
  {
   "attachments": {},
   "cell_type": "markdown",
   "metadata": {},
   "source": [
    "# 2. EDA"
   ]
  },
  {
   "attachments": {},
   "cell_type": "markdown",
   "metadata": {},
   "source": [
    "## 2.1 Non visual analysis"
   ]
  },
  {
   "cell_type": "code",
   "execution_count": 5,
   "metadata": {},
   "outputs": [
    {
     "data": {
      "text/plain": [
       "(550176, 8)"
      ]
     },
     "execution_count": 5,
     "metadata": {},
     "output_type": "execute_result"
    }
   ],
   "source": [
    "df.shape"
   ]
  },
  {
   "attachments": {},
   "cell_type": "markdown",
   "metadata": {},
   "source": [
    "There are 550k unique entries in the dataset"
   ]
  },
  {
   "cell_type": "code",
   "execution_count": 6,
   "metadata": {},
   "outputs": [
    {
     "name": "stdout",
     "output_type": "stream",
     "text": [
      "<class 'pandas.core.frame.DataFrame'>\n",
      "RangeIndex: 550176 entries, 0 to 550175\n",
      "Data columns (total 8 columns):\n",
      " #   Column             Non-Null Count   Dtype         \n",
      "---  ------             --------------   -----         \n",
      " 0   ProductType        550176 non-null  object        \n",
      " 1   Manufacturer       550176 non-null  object        \n",
      " 2   Area Code          550176 non-null  object        \n",
      " 3   Sourcing Channel   550176 non-null  object        \n",
      " 4   Product Size       550176 non-null  object        \n",
      " 5   Product Type       550176 non-null  object        \n",
      " 6   Month of Sourcing  550176 non-null  datetime64[ns]\n",
      " 7   Sourcing Cost      550176 non-null  float64       \n",
      "dtypes: datetime64[ns](1), float64(1), object(6)\n",
      "memory usage: 33.6+ MB\n"
     ]
    }
   ],
   "source": [
    "df.info()"
   ]
  },
  {
   "attachments": {},
   "cell_type": "markdown",
   "metadata": {},
   "source": [
    "### There are no null values"
   ]
  },
  {
   "cell_type": "code",
   "execution_count": 7,
   "metadata": {},
   "outputs": [
    {
     "data": {
      "text/plain": [
       "541165"
      ]
     },
     "execution_count": 7,
     "metadata": {},
     "output_type": "execute_result"
    }
   ],
   "source": [
    "df.duplicated().sum()"
   ]
  },
  {
   "attachments": {},
   "cell_type": "markdown",
   "metadata": {},
   "source": [
    "There are large number of duplicate rows since each row denotes one unique purchase, we've to group these accordingly"
   ]
  },
  {
   "cell_type": "code",
   "execution_count": 8,
   "metadata": {},
   "outputs": [],
   "source": [
    "df['index']=df.index"
   ]
  },
  {
   "cell_type": "code",
   "execution_count": 9,
   "metadata": {},
   "outputs": [],
   "source": [
    "dfg = df.groupby(\n",
    "    [\n",
    "        'ProductType',\t'Manufacturer',\t'Area Code', 'Sourcing Channel',\n",
    "        'Product Size',\t'Product Type',\t'Month of Sourcing', 'Sourcing Cost'\n",
    "    ]\n",
    ").agg({'index':'count'}).reset_index().rename(columns={'index' : 'num_units'})"
   ]
  },
  {
   "cell_type": "code",
   "execution_count": 10,
   "metadata": {},
   "outputs": [
    {
     "data": {
      "text/plain": [
       "(9011, 9)"
      ]
     },
     "execution_count": 10,
     "metadata": {},
     "output_type": "execute_result"
    }
   ],
   "source": [
    "dfg.shape"
   ]
  },
  {
   "cell_type": "code",
   "execution_count": 11,
   "metadata": {},
   "outputs": [
    {
     "data": {
      "text/html": [
       "<div>\n",
       "<style scoped>\n",
       "    .dataframe tbody tr th:only-of-type {\n",
       "        vertical-align: middle;\n",
       "    }\n",
       "\n",
       "    .dataframe tbody tr th {\n",
       "        vertical-align: top;\n",
       "    }\n",
       "\n",
       "    .dataframe thead th {\n",
       "        text-align: right;\n",
       "    }\n",
       "</style>\n",
       "<table border=\"1\" class=\"dataframe\">\n",
       "  <thead>\n",
       "    <tr style=\"text-align: right;\">\n",
       "      <th></th>\n",
       "      <th>ProductType</th>\n",
       "      <th>Manufacturer</th>\n",
       "      <th>Area Code</th>\n",
       "      <th>Sourcing Channel</th>\n",
       "      <th>Product Size</th>\n",
       "      <th>Product Type</th>\n",
       "      <th>Month of Sourcing</th>\n",
       "      <th>Sourcing Cost</th>\n",
       "      <th>num_units</th>\n",
       "    </tr>\n",
       "  </thead>\n",
       "  <tbody>\n",
       "    <tr>\n",
       "      <th>0</th>\n",
       "      <td>NTM1</td>\n",
       "      <td>X1</td>\n",
       "      <td>A1</td>\n",
       "      <td>DIRECT</td>\n",
       "      <td>Small</td>\n",
       "      <td>Powder</td>\n",
       "      <td>2020-07-01</td>\n",
       "      <td>82.428</td>\n",
       "      <td>46</td>\n",
       "    </tr>\n",
       "    <tr>\n",
       "      <th>1</th>\n",
       "      <td>NTM1</td>\n",
       "      <td>X1</td>\n",
       "      <td>A1</td>\n",
       "      <td>DIRECT</td>\n",
       "      <td>Small</td>\n",
       "      <td>Powder</td>\n",
       "      <td>2020-07-01</td>\n",
       "      <td>89.489</td>\n",
       "      <td>104</td>\n",
       "    </tr>\n",
       "    <tr>\n",
       "      <th>2</th>\n",
       "      <td>NTM1</td>\n",
       "      <td>X1</td>\n",
       "      <td>A1</td>\n",
       "      <td>DIRECT</td>\n",
       "      <td>Small</td>\n",
       "      <td>Powder</td>\n",
       "      <td>2020-07-01</td>\n",
       "      <td>95.089</td>\n",
       "      <td>116</td>\n",
       "    </tr>\n",
       "    <tr>\n",
       "      <th>3</th>\n",
       "      <td>NTM1</td>\n",
       "      <td>X1</td>\n",
       "      <td>A1</td>\n",
       "      <td>DIRECT</td>\n",
       "      <td>Small</td>\n",
       "      <td>Powder</td>\n",
       "      <td>2020-07-01</td>\n",
       "      <td>100.372</td>\n",
       "      <td>87</td>\n",
       "    </tr>\n",
       "    <tr>\n",
       "      <th>4</th>\n",
       "      <td>NTM1</td>\n",
       "      <td>X1</td>\n",
       "      <td>A1</td>\n",
       "      <td>DIRECT</td>\n",
       "      <td>Small</td>\n",
       "      <td>Powder</td>\n",
       "      <td>2020-07-01</td>\n",
       "      <td>104.454</td>\n",
       "      <td>66</td>\n",
       "    </tr>\n",
       "    <tr>\n",
       "      <th>5</th>\n",
       "      <td>NTM1</td>\n",
       "      <td>X1</td>\n",
       "      <td>A1</td>\n",
       "      <td>DIRECT</td>\n",
       "      <td>Small</td>\n",
       "      <td>Powder</td>\n",
       "      <td>2020-07-01</td>\n",
       "      <td>106.427</td>\n",
       "      <td>190</td>\n",
       "    </tr>\n",
       "    <tr>\n",
       "      <th>6</th>\n",
       "      <td>NTM1</td>\n",
       "      <td>X1</td>\n",
       "      <td>A1</td>\n",
       "      <td>DIRECT</td>\n",
       "      <td>Small</td>\n",
       "      <td>Powder</td>\n",
       "      <td>2020-07-01</td>\n",
       "      <td>109.735</td>\n",
       "      <td>89</td>\n",
       "    </tr>\n",
       "    <tr>\n",
       "      <th>7</th>\n",
       "      <td>NTM1</td>\n",
       "      <td>X1</td>\n",
       "      <td>A1</td>\n",
       "      <td>DIRECT</td>\n",
       "      <td>Small</td>\n",
       "      <td>Powder</td>\n",
       "      <td>2020-07-01</td>\n",
       "      <td>111.520</td>\n",
       "      <td>34</td>\n",
       "    </tr>\n",
       "    <tr>\n",
       "      <th>8</th>\n",
       "      <td>NTM1</td>\n",
       "      <td>X1</td>\n",
       "      <td>A1</td>\n",
       "      <td>DIRECT</td>\n",
       "      <td>Small</td>\n",
       "      <td>Powder</td>\n",
       "      <td>2020-07-01</td>\n",
       "      <td>113.444</td>\n",
       "      <td>79</td>\n",
       "    </tr>\n",
       "    <tr>\n",
       "      <th>9</th>\n",
       "      <td>NTM1</td>\n",
       "      <td>X1</td>\n",
       "      <td>A1</td>\n",
       "      <td>DIRECT</td>\n",
       "      <td>Small</td>\n",
       "      <td>Powder</td>\n",
       "      <td>2020-07-01</td>\n",
       "      <td>113.636</td>\n",
       "      <td>91</td>\n",
       "    </tr>\n",
       "  </tbody>\n",
       "</table>\n",
       "</div>"
      ],
      "text/plain": [
       "  ProductType Manufacturer Area Code Sourcing Channel Product Size  \\\n",
       "0        NTM1           X1        A1           DIRECT        Small   \n",
       "1        NTM1           X1        A1           DIRECT        Small   \n",
       "2        NTM1           X1        A1           DIRECT        Small   \n",
       "3        NTM1           X1        A1           DIRECT        Small   \n",
       "4        NTM1           X1        A1           DIRECT        Small   \n",
       "5        NTM1           X1        A1           DIRECT        Small   \n",
       "6        NTM1           X1        A1           DIRECT        Small   \n",
       "7        NTM1           X1        A1           DIRECT        Small   \n",
       "8        NTM1           X1        A1           DIRECT        Small   \n",
       "9        NTM1           X1        A1           DIRECT        Small   \n",
       "\n",
       "  Product Type Month of Sourcing  Sourcing Cost  num_units  \n",
       "0       Powder        2020-07-01         82.428         46  \n",
       "1       Powder        2020-07-01         89.489        104  \n",
       "2       Powder        2020-07-01         95.089        116  \n",
       "3       Powder        2020-07-01        100.372         87  \n",
       "4       Powder        2020-07-01        104.454         66  \n",
       "5       Powder        2020-07-01        106.427        190  \n",
       "6       Powder        2020-07-01        109.735         89  \n",
       "7       Powder        2020-07-01        111.520         34  \n",
       "8       Powder        2020-07-01        113.444         79  \n",
       "9       Powder        2020-07-01        113.636         91  "
      ]
     },
     "execution_count": 11,
     "metadata": {},
     "output_type": "execute_result"
    }
   ],
   "source": [
    "dfg.head(10)"
   ]
  },
  {
   "attachments": {},
   "cell_type": "markdown",
   "metadata": {},
   "source": [
    "Still, there are multiple products bought for different prices in the same month"
   ]
  },
  {
   "cell_type": "code",
   "execution_count": 12,
   "metadata": {},
   "outputs": [
    {
     "data": {
      "text/plain": [
       "ProductType             3\n",
       "Manufacturer            3\n",
       "Area Code              45\n",
       "Sourcing Channel        4\n",
       "Product Size            3\n",
       "Product Type            2\n",
       "Month of Sourcing      11\n",
       "Sourcing Cost        6747\n",
       "num_units             473\n",
       "dtype: int64"
      ]
     },
     "execution_count": 12,
     "metadata": {},
     "output_type": "execute_result"
    }
   ],
   "source": [
    "dfg.nunique()"
   ]
  },
  {
   "attachments": {},
   "cell_type": "markdown",
   "metadata": {},
   "source": [
    "## 2.2 Visual Analysis"
   ]
  },
  {
   "attachments": {},
   "cell_type": "markdown",
   "metadata": {},
   "source": [
    "### 2.2.1 Helper functions"
   ]
  },
  {
   "cell_type": "code",
   "execution_count": 35,
   "metadata": {},
   "outputs": [],
   "source": [
    "def display_normalized_value_counts(data, col):\n",
    "    '''\n",
    "    Displays the value counts in percentage format (in between 0 and 100)\n",
    "    of the column \"col\" present in the pandas dataframe \"data\" \n",
    "    \n",
    "    Inputs:\n",
    "    data (pd.DataFrame): Data represented in pandas dataframe format\n",
    "    col (str): Name of the column present in the dataframe \"data\" for which the normalized value counts\n",
    "               needs to be displayed\n",
    "\n",
    "    Returns:\n",
    "    None\n",
    "    '''\n",
    "    print(data[col].value_counts(normalize=True).round(4)*100)"
   ]
  },
  {
   "cell_type": "code",
   "execution_count": 36,
   "metadata": {},
   "outputs": [],
   "source": [
    "def display_cumulative_value_counts(data, col):\n",
    "    '''\n",
    "    Displays the cumulative value counts in percentage format (in between 0 and 100)\n",
    "    of the column \"col\" present in the pandas dataframe \"data\" \n",
    "    \n",
    "    Inputs:\n",
    "    data (pd.DataFrame): Data represented in pandas dataframe format\n",
    "    col (str): Name of the column present in the dataframe \"data\" for which the normalized value counts\n",
    "               needs to be displayed\n",
    "\n",
    "    Returns:\n",
    "    None\n",
    "    '''\n",
    "    print((data[col].value_counts(normalize=True).round(4)*100).cumsum())"
   ]
  },
  {
   "cell_type": "code",
   "execution_count": 37,
   "metadata": {},
   "outputs": [],
   "source": [
    "def display_countplot(data, col, order=False, order_list=None, rot=False):\n",
    "    '''\n",
    "    Displays the countplot of column \"col\" present in the pandas dataframe \"data\"\n",
    "\n",
    "    Inputs:\n",
    "    data (pd.DataFrame): Data represented in pandas dataframe format\n",
    "    col (str): Name of the column present in the dataframe \"data\" for which the countplot\n",
    "               needs to be displayed\n",
    "    order (bool) [Optional, default=False]: Boolean value denoting whether we wish to order the countplot's x-axis or not\n",
    "    order_list (List) [Optional, default=None]: List of labels denoting the order of labels on the X-Axis\n",
    "    rot (bool) [Optional, default=False]: Boolean value denoting whether to enable rotation of x-labels or not\n",
    "\n",
    "    Returns:\n",
    "    None\n",
    "    '''\n",
    "    if order:\n",
    "        order = order_list if order_list else sorted(data[col].astype('int').unique().tolist()) \n",
    "        sns.countplot(data=data, x=col, order=order)\n",
    "    else:\n",
    "        sns.countplot(data=data, x=col)\n",
    "    if rot:\n",
    "        plt.xticks(rotation=45)\n",
    "    plt.show()"
   ]
  },
  {
   "cell_type": "code",
   "execution_count": 38,
   "metadata": {},
   "outputs": [],
   "source": [
    "def display_countplot_top_k_categories(data, col, k, include_na=False, rot=False):\n",
    "    '''\n",
    "    Displays only the top \"k\" categories in the countplot of column \"col\"\n",
    "    present in the pandas dataframe \"data\"\n",
    "\n",
    "    Inputs:\n",
    "    data (pd.DataFrame): Data represented in pandas dataframe format\n",
    "    col (str): Name of the column present in the dataframe \"data\" for which the countplot\n",
    "               needs to be displayed\n",
    "    k (int) : Number of top categories (by counts) to include in the countplot\n",
    "    include_na (bool) [Optional, default=False]: Boolean value indicating whether to include NA's in computing top k categories or not\n",
    "    rot (bool) [Optional, default=False]: Boolean value denoting whether to enable rotation of x-labels or not\n",
    "\n",
    "    Returns:\n",
    "    None\n",
    "    '''\n",
    "    if not include_na:\n",
    "        data=data.loc[((~data[col].isna()) & (data[col]!='NA'))]\n",
    "    top_k_categories = data[col].value_counts()[:k].index.tolist()\n",
    "    sns.countplot(data=data.loc[data[col].isin(top_k_categories)], x=col, order=top_k_categories)\n",
    "    if rot:\n",
    "        plt.xticks(rotation=45)\n",
    "    plt.show()"
   ]
  },
  {
   "cell_type": "code",
   "execution_count": 39,
   "metadata": {},
   "outputs": [],
   "source": [
    "def display_countplot_with_hue(data, col_x, col_hue, order_col=None, rot=False):\n",
    "    '''\n",
    "    Displays the countplot of column \"col\" based on the hue column \"col_hue\"\n",
    "    present in the pandas dataframe \"data\"\n",
    "\n",
    "    Inputs:\n",
    "    data (pd.DataFrame): Data represented in pandas dataframe format\n",
    "    col_x (str): Name of the column present in the dataframe \"data\" for which the countplot\n",
    "               needs to be displayed\n",
    "    col_hue (str): Name of the column present in the dataframe \"data\" for which the hue\n",
    "                   needs to be displayed\n",
    "    \n",
    "    Returns:\n",
    "    None\n",
    "    '''\n",
    "    if order_col:\n",
    "        sns.countplot(data=data, x=col_x, hue=col_hue, order=order_col)\n",
    "    else:\n",
    "        sns.countplot(data=data, x=col_x, hue=col_hue)\n",
    "    if rot:\n",
    "        plt.xticks(rotation=45)\n",
    "    plt.show()"
   ]
  },
  {
   "cell_type": "code",
   "execution_count": 40,
   "metadata": {},
   "outputs": [],
   "source": [
    "def display_kde_plot(data, col):\n",
    "    '''\n",
    "    Displays the KDE (Kernel density estimation) plot of column \"col\" present in the pandas dataframe \"data\"\n",
    "\n",
    "    Inputs:\n",
    "    data (pd.DataFrame): Data represented in pandas dataframe format\n",
    "    col (str): Name of the column present in the dataframe \"data\" for which the KDE plot\n",
    "               needs to be displayed\n",
    "\n",
    "    Returns:\n",
    "    None\n",
    "    '''\n",
    "    sns.kdeplot(data=data, x=col)\n",
    "    plt.grid()\n",
    "    plt.show()"
   ]
  },
  {
   "cell_type": "code",
   "execution_count": 41,
   "metadata": {},
   "outputs": [],
   "source": [
    "def display_kde_plot_with_hue(data, col_x, col_hue, hue_order=None):\n",
    "    '''\n",
    "    Displays the KDE Plot with \"col_x\" on X-axis and \"col_hue\" to denote the hue\n",
    "    for \"col_x\" and \"col_hue\" present in the pandas dataframe \"data\"\n",
    "\n",
    "    Inputs:\n",
    "    data (pd.DataFrame): Data represented in pandas dataframe format\n",
    "    col_x (str): Name of the column present in the dataframe \"data\"\n",
    "                 which is displayed on the X-Axis \n",
    "                 for which the boxplot needs to be displayed\n",
    "    col_hue (str): Name of the column present in the dataframe \"data\"\n",
    "                 which is used for hue in KDE Plot\n",
    "    hue_order (list) [Optional]: Ordering of values in \"col_hue\"\n",
    "\n",
    "    Returns:\n",
    "    None\n",
    "    '''\n",
    "    sns.kdeplot(data=data, x=col_x, hue=col_hue, hue_order=hue_order)\n",
    "    plt.grid()\n",
    "    plt.show()"
   ]
  },
  {
   "cell_type": "code",
   "execution_count": 42,
   "metadata": {},
   "outputs": [],
   "source": [
    "def display_two_kde_plots(data, col1, col2, xlabel=None):\n",
    "    '''\n",
    "    Displays the KDE (Kernel density estimation) plots of two columns \"col1\" and \"col2\"\n",
    "    in an overlapping format on the same graph\n",
    "    Both columns are present in the pandas dataframe \"data\"\n",
    "\n",
    "    Inputs:\n",
    "    data (pd.DataFrame): Data represented in pandas dataframe format\n",
    "    col1 (str): Name of the column 1 present in the dataframe \"data\"\n",
    "                for which the first KDE plot needs to be displayed\n",
    "    col2 (str): Name of the column 2 present in the dataframe \"data\"\n",
    "                for which the second KDE plot needs to be displayed\n",
    "    xlabel (str) [Optional, default=None]: Label to display on the x-axis\n",
    "\n",
    "    Returns:\n",
    "    None\n",
    "    '''\n",
    "    sns.kdeplot(data=data, x=col1, label=col1)\n",
    "    sns.kdeplot(data=data, x=col2, label=col2)\n",
    "    if xlabel:\n",
    "        plt.xlabel(xlabel)\n",
    "    plt.legend()\n",
    "    plt.grid()\n",
    "    plt.show()"
   ]
  },
  {
   "cell_type": "code",
   "execution_count": 43,
   "metadata": {},
   "outputs": [],
   "source": [
    "def display_cdf_plot(data, col, xticks=False):\n",
    "    '''\n",
    "    Displays the emperical CDF (Cumulative density function)\n",
    "    plot of column \"col\" present in the pandas dataframe \"data\"\n",
    "\n",
    "    Inputs:\n",
    "    data (pd.DataFrame): Data represented in pandas dataframe format\n",
    "    col (str): Name of the column present in the dataframe \"data\"\n",
    "               for which the Emperical CDF needs to be displayed\n",
    "\n",
    "    Returns:\n",
    "    None\n",
    "    '''\n",
    "    sns.kdeplot(data[col], cumulative=True)\n",
    "    if xticks:\n",
    "        plt.xticks(np.arange(data[col].min().round(1), data[col].max().round(1) + 0.1, 0.1))\n",
    "    plt.yticks(np.arange(0, 1.1, 0.1))\n",
    "    plt.grid()\n",
    "    plt.show()"
   ]
  },
  {
   "cell_type": "code",
   "execution_count": 44,
   "metadata": {},
   "outputs": [],
   "source": [
    "def display_box_plot(data, col):\n",
    "    '''\n",
    "    Displays the boxplot of column \"col\" present in the pandas dataframe \"data\"\n",
    "\n",
    "    Inputs:\n",
    "    data (pd.DataFrame): Data represented in pandas dataframe format\n",
    "    col (str): Name of the column present in the dataframe \"data\"\n",
    "               for which the boxplot needs to be displayed\n",
    "\n",
    "    Returns:\n",
    "    None\n",
    "    '''\n",
    "    sns.boxplot(data=data, x=col)\n",
    "    plt.grid()\n",
    "    plt.show()"
   ]
  },
  {
   "cell_type": "code",
   "execution_count": 144,
   "metadata": {},
   "outputs": [],
   "source": [
    "def display_box_plot_2d(data, col_x, col_y, orient=None, col_order=None):\n",
    "    '''\n",
    "    Displays the boxplot with \"col_x\" on X-axis and \"col_y\" on Y-axis\n",
    "    for \"col_x\" and \"col_y\" present in the pandas dataframe \"data\"\n",
    "\n",
    "    Inputs:\n",
    "    data (pd.DataFrame): Data represented in pandas dataframe format\n",
    "    col_x (str): Name of the column present in the dataframe \"data\"\n",
    "                 which is displayed on the X-Axis \n",
    "                 for which the boxplot needs to be displayed\n",
    "    col_y (str): Name of the column present in the dataframe \"data\"\n",
    "                 which is displayed on the Y-Axis \n",
    "                 for which the boxplot needs to be displayed\n",
    "    col_order (list) [Optional]: Ordering of columns to be displayed on the X-Axis\n",
    "\n",
    "    Returns:\n",
    "    None\n",
    "    '''\n",
    "    sns.boxplot(data=data, x=col_x, y=col_y, order=col_order, orient=orient)\n",
    "    plt.grid()\n",
    "    plt.show()"
   ]
  },
  {
   "cell_type": "code",
   "execution_count": 46,
   "metadata": {},
   "outputs": [],
   "source": [
    "def display_two_box_plots(data, col1, col2):\n",
    "    '''\n",
    "    Displays the Box plots of two columns \"col1\" and \"col2\"\n",
    "    in an overlapping format on the same graph\n",
    "    Both columns are present in the pandas dataframe \"data\"\n",
    "\n",
    "    Inputs:\n",
    "    data (pd.DataFrame): Data represented in pandas dataframe format\n",
    "    col1 (str): Name of the column 1 present in the dataframe \"data\"\n",
    "                for which the first box plot needs to be displayed\n",
    "    col2 (str): Name of the column 2 present in the dataframe \"data\"\n",
    "                for which the second box plot needs to be displayed\n",
    "\n",
    "    Returns:\n",
    "    None\n",
    "    '''\n",
    "    plt.subplot(211)\n",
    "    sns.boxplot(data=data, x=col1, color='r')\n",
    "    plt.subplot(212)\n",
    "    sns.boxplot(data=data, x=col2, color='b')\n",
    "    plt.show()"
   ]
  },
  {
   "cell_type": "code",
   "execution_count": 47,
   "metadata": {},
   "outputs": [],
   "source": [
    "def display_bar_plot(data, col1, col2, rot=False, grid=True):\n",
    "    '''\n",
    "    Displays the bar plots of two columns \"col1\" and \"col2\"\n",
    "    in an overlapping format on the same graph\n",
    "    Both columns are present in the pandas dataframe \"data\"\n",
    "\n",
    "    Inputs:\n",
    "    data (pd.DataFrame): Data represented in pandas dataframe format\n",
    "    col1 (str): Name of the column 1 present in the dataframe \"data\"\n",
    "                for which the first bar plot needs to be displayed\n",
    "    col2 (str): Name of the column 2 present in the dataframe \"data\"\n",
    "                for which the second bar plot needs to be displayed\n",
    "    rot (bool) [Optional, default=False]: Boolean value denoting whether to enable rotation of x-labels or not\n",
    "    grid (bool) [Optional, default=True]: Boolean value indicating whether to display the grid on the plot or not\n",
    "\n",
    "    Returns:\n",
    "    None\n",
    "    '''\n",
    "    sns.barplot(data=data, x=col1, y=col2)\n",
    "    if grid:\n",
    "        plt.grid()\n",
    "    if rot:\n",
    "        plt.xticks(rotation=60)\n",
    "    plt.show()"
   ]
  },
  {
   "cell_type": "code",
   "execution_count": 48,
   "metadata": {},
   "outputs": [],
   "source": [
    "def display_scatter_plot(data, col_x, col_y, grid=True):\n",
    "    '''\n",
    "    Displays the scatter plots of two columns \"col1\" and \"col2\"\n",
    "    Both columns are present in the pandas dataframe \"data\"\n",
    "\n",
    "    Inputs:\n",
    "    data (pd.DataFrame): Data represented in pandas dataframe format\n",
    "    col_x (str): Name of the column 1 present in the dataframe \"data\"\n",
    "                 to be displayed on X-Axis\n",
    "    col_y (str): Name of the column 2 present in the dataframe \"data\"\n",
    "                 to be displayed on Y-Axis\n",
    "    grid (bool) [Optional, default=True]: Boolean value indicating whether to display the grid on the plot or not\n",
    "\n",
    "    Returns:\n",
    "    None\n",
    "    '''\n",
    "    sns.scatterplot(data=data, x=col_x, y=col_y)\n",
    "    if grid: plt.grid()\n",
    "    plt.show()"
   ]
  },
  {
   "cell_type": "code",
   "execution_count": 49,
   "metadata": {},
   "outputs": [],
   "source": [
    "def display_pearson_corr_coef(data, x, y):\n",
    "    '''\n",
    "    Displays the Pearson Correlation Coefficient between two columns \"x\" and \"y\"\n",
    "    Both columns are present in the pandas dataframe \"data\"\n",
    "\n",
    "    Inputs:\n",
    "    data (pd.DataFrame): Data represented in pandas dataframe format\n",
    "    x (str): Name of the column 1 present in the dataframe \"data\"\n",
    "    y (str): Name of the column 2 present in the dataframe \"data\"\n",
    "    \n",
    "    Returns:\n",
    "    None\n",
    "    '''\n",
    "    print(f\"PCC between '{x}' and '{y}' = {np.corrcoef(data[x], data[y]).round(3)[0, 1]}\")"
   ]
  },
  {
   "cell_type": "code",
   "execution_count": 50,
   "metadata": {},
   "outputs": [],
   "source": [
    "def display_spearman_rank_corr_coef(data, x, y):\n",
    "    '''\n",
    "    Displays the Spearman Rank Correlation Coefficient (SRCC) between two columns \"x\" and \"y\"\n",
    "    Both columns are present in the pandas dataframe \"data\"\n",
    "\n",
    "    Inputs:\n",
    "    data (pd.DataFrame): Data represented in pandas dataframe format\n",
    "    x (str): Name of the column 1 present in the dataframe \"data\"\n",
    "    y (str): Name of the column 2 present in the dataframe \"data\"\n",
    "    \n",
    "    Returns:\n",
    "    None\n",
    "    '''\n",
    "    print(f\"SRCC between '{x}' and '{y}' = {round(spearmanr(data[x], data[y])[0], 3)}\")"
   ]
  },
  {
   "cell_type": "code",
   "execution_count": 68,
   "metadata": {},
   "outputs": [],
   "source": [
    "def display_proportional_count(data, colName):\n",
    "    print(\n",
    "            (data.groupby(colName).agg({'index':'count'})/data.groupby('ProductType').agg(\n",
    "            {'index':'count'})['index'].sum()).rename(columns={'index':'per_contri'}).round(4)*100\n",
    "          )"
   ]
  },
  {
   "attachments": {},
   "cell_type": "markdown",
   "metadata": {},
   "source": [
    "### 2.2.2 Univariate Analysis"
   ]
  },
  {
   "cell_type": "code",
   "execution_count": 175,
   "metadata": {},
   "outputs": [
    {
     "name": "stdout",
     "output_type": "stream",
     "text": [
      "             per_contri\n",
      "ProductType            \n",
      "NTM1              35.43\n",
      "NTM2              43.03\n",
      "NTM3              21.54\n"
     ]
    }
   ],
   "source": [
    "display_proportional_count(df, 'ProductType')"
   ]
  },
  {
   "cell_type": "code",
   "execution_count": 176,
   "metadata": {},
   "outputs": [
    {
     "data": {
      "image/png": "[encoded data removed]",
      "text/plain": [
       "<Figure size 720x360 with 1 Axes>"
      ]
     },
     "metadata": {
      "needs_background": "light"
     },
     "output_type": "display_data"
    }
   ],
   "source": [
    "display_countplot(df, 'ProductType')"
   ]
  },
  {
   "attachments": {},
   "cell_type": "markdown",
   "metadata": {},
   "source": [
    "All 3 product types have significant contribution in the orders with NTM2 dominating and NTM3 with least number of rows"
   ]
  },
  {
   "cell_type": "code",
   "execution_count": 177,
   "metadata": {},
   "outputs": [
    {
     "name": "stdout",
     "output_type": "stream",
     "text": [
      "              per_contri\n",
      "Manufacturer            \n",
      "X1                 76.31\n",
      "X2                 21.94\n",
      "X3                  1.75\n"
     ]
    }
   ],
   "source": [
    "display_proportional_count(df, 'Manufacturer')"
   ]
  },
  {
   "cell_type": "code",
   "execution_count": 71,
   "metadata": {},
   "outputs": [
    {
     "data": {
      "image/png": "[encoded data removed]",
      "text/plain": [
       "<Figure size 432x288 with 1 Axes>"
      ]
     },
     "metadata": {
      "needs_background": "light"
     },
     "output_type": "display_data"
    }
   ],
   "source": [
    "display_countplot(df, 'Manufacturer')"
   ]
  },
  {
   "attachments": {},
   "cell_type": "markdown",
   "metadata": {},
   "source": [
    "X1 has the highest percentage contribution as a manufacturer with more than 75% share, after that X2 has more than 20% share and X3 has less than 2% share"
   ]
  },
  {
   "cell_type": "code",
   "execution_count": 76,
   "metadata": {},
   "outputs": [
    {
     "data": {
      "image/png": "[encoded data removed]",
      "text/plain": [
       "<Figure size 1440x360 with 1 Axes>"
      ]
     },
     "metadata": {
      "needs_background": "light"
     },
     "output_type": "display_data"
    }
   ],
   "source": [
    "plt.rcParams[\"figure.figsize\"] = (20,5)\n",
    "display_countplot(df, 'Area Code')"
   ]
  },
  {
   "attachments": {},
   "cell_type": "markdown",
   "metadata": {},
   "source": [
    "There's a lot of variation in number of orders wrt area code"
   ]
  },
  {
   "cell_type": "code",
   "execution_count": 77,
   "metadata": {},
   "outputs": [
    {
     "name": "stdout",
     "output_type": "stream",
     "text": [
      "                  per_contri\n",
      "Sourcing Channel            \n",
      "DIRECT                 82.45\n",
      "ECOM                    5.65\n",
      "RETAIL                 10.91\n",
      "WHOLESALE               0.99\n"
     ]
    }
   ],
   "source": [
    "display_proportional_count(df, 'Sourcing Channel')"
   ]
  },
  {
   "cell_type": "code",
   "execution_count": 79,
   "metadata": {},
   "outputs": [
    {
     "data": {
      "image/png": "[encoded data removed]",
      "text/plain": [
       "<Figure size 504x360 with 1 Axes>"
      ]
     },
     "metadata": {
      "needs_background": "light"
     },
     "output_type": "display_data"
    }
   ],
   "source": [
    "plt.rcParams[\"figure.figsize\"] = (7,5)\n",
    "display_countplot(df, 'Sourcing Channel')"
   ]
  },
  {
   "attachments": {},
   "cell_type": "markdown",
   "metadata": {},
   "source": [
    "Whoesale has a very less contribution in the train set (< 1%), Sourcing channel is dominated by \"Direct\""
   ]
  },
  {
   "cell_type": "code",
   "execution_count": 81,
   "metadata": {},
   "outputs": [
    {
     "name": "stdout",
     "output_type": "stream",
     "text": [
      "              per_contri\n",
      "Product Size            \n",
      "ExtraLarge          0.75\n",
      "Large              59.17\n",
      "Small              40.07\n"
     ]
    }
   ],
   "source": [
    "display_proportional_count(df, 'Product Size')"
   ]
  },
  {
   "cell_type": "code",
   "execution_count": 80,
   "metadata": {},
   "outputs": [
    {
     "data": {
      "image/png": "[encoded data removed]",
      "text/plain": [
       "<Figure size 504x360 with 1 Axes>"
      ]
     },
     "metadata": {
      "needs_background": "light"
     },
     "output_type": "display_data"
    }
   ],
   "source": [
    "display_countplot(df, 'Product Size')"
   ]
  },
  {
   "attachments": {},
   "cell_type": "markdown",
   "metadata": {},
   "source": [
    "Small and Large dominate the \"Product Size\", XL has < 1% share"
   ]
  },
  {
   "cell_type": "code",
   "execution_count": 82,
   "metadata": {},
   "outputs": [
    {
     "name": "stdout",
     "output_type": "stream",
     "text": [
      "              per_contri\n",
      "Product Type            \n",
      "Liquid             14.28\n",
      "Powder             85.72\n"
     ]
    }
   ],
   "source": [
    "display_proportional_count(df, 'Product Type')"
   ]
  },
  {
   "cell_type": "code",
   "execution_count": 83,
   "metadata": {},
   "outputs": [
    {
     "data": {
      "image/png": "[encoded data removed]",
      "text/plain": [
       "<Figure size 504x360 with 1 Axes>"
      ]
     },
     "metadata": {
      "needs_background": "light"
     },
     "output_type": "display_data"
    }
   ],
   "source": [
    "display_countplot(df, 'Product Type')"
   ]
  },
  {
   "attachments": {},
   "cell_type": "markdown",
   "metadata": {},
   "source": [
    "85% items have Product Type \"Powder\", rest 15% have \"Liquid\""
   ]
  },
  {
   "cell_type": "code",
   "execution_count": 178,
   "metadata": {},
   "outputs": [
    {
     "data": {
      "image/png": "[encoded data removed]",
      "text/plain": [
       "<Figure size 1440x360 with 1 Axes>"
      ]
     },
     "metadata": {
      "needs_background": "light"
     },
     "output_type": "display_data"
    }
   ],
   "source": [
    "plt.rcParams[\"figure.figsize\"] = (20,5)\n",
    "\n",
    "df['Year_Month'] = df['Month of Sourcing'].dt.year.astype('str') + '-' + df['Month of Sourcing'].dt.month.astype('str')\n",
    "order_list = [f'2020-{i}' for i in range(7, 13)] + [f'2021-{i}' for i in range(1, 6)]\n",
    "display_countplot(\n",
    "    df,\n",
    "    'Year_Month',\n",
    "    order=True,\n",
    "    order_list=order_list\n",
    ")"
   ]
  },
  {
   "attachments": {},
   "cell_type": "markdown",
   "metadata": {},
   "source": [
    "Number of order per month were highest in November 2020 and second highest in March 2021"
   ]
  },
  {
   "cell_type": "code",
   "execution_count": 112,
   "metadata": {},
   "outputs": [
    {
     "data": {
      "text/plain": [
       "count     9011.000000\n",
       "mean       130.662686\n",
       "std        527.894832\n",
       "min       -196.070000\n",
       "25%         43.729000\n",
       "50%         97.897000\n",
       "75%        142.635500\n",
       "max      32632.500000\n",
       "Name: Sourcing Cost, dtype: float64"
      ]
     },
     "execution_count": 112,
     "metadata": {},
     "output_type": "execute_result"
    }
   ],
   "source": [
    "dfg['Sourcing Cost'].describe()"
   ]
  },
  {
   "cell_type": "code",
   "execution_count": 111,
   "metadata": {},
   "outputs": [
    {
     "data": {
      "image/png": "[encoded data removed]",
      "text/plain": [
       "<Figure size 720x360 with 1 Axes>"
      ]
     },
     "metadata": {
      "needs_background": "light"
     },
     "output_type": "display_data"
    }
   ],
   "source": [
    "plt.rcParams[\"figure.figsize\"] = (10,5)\n",
    "display_box_plot(df, 'Sourcing Cost')"
   ]
  },
  {
   "cell_type": "code",
   "execution_count": 110,
   "metadata": {},
   "outputs": [
    {
     "data": {
      "image/png": "[encoded data removed]",
      "text/plain": [
       "<Figure size 720x360 with 1 Axes>"
      ]
     },
     "metadata": {
      "needs_background": "light"
     },
     "output_type": "display_data"
    }
   ],
   "source": [
    "display_kde_plot(df, 'Sourcing Cost')"
   ]
  },
  {
   "attachments": {},
   "cell_type": "markdown",
   "metadata": {},
   "source": [
    "Sourcing Cost has significant outliers on the right side, also it has -ve values which doesn't make sense"
   ]
  },
  {
   "cell_type": "code",
   "execution_count": 117,
   "metadata": {},
   "outputs": [
    {
     "name": "stdout",
     "output_type": "stream",
     "text": [
      "0th percentile = -196.07\n",
      "1th percentile = -0.0\n",
      "2th percentile = -0.0\n",
      "3th percentile = -0.0\n",
      "4th percentile = -0.0\n",
      "5th percentile = 0.0\n",
      "90th percentile = 169.56\n",
      "95th percentile = 212.98\n",
      "96th percentile = 218.64\n",
      "97th percentile = 282.6\n",
      "98th percentile = 470.69\n",
      "99th percentile = 919.38\n",
      "99.5th percentile = 1804.75\n",
      "99.9th percentile = 6041.03\n"
     ]
    }
   ],
   "source": [
    "for p in [0, 1, 2, 3, 4, 5, 90, 95, 96, 97, 98, 99, 99.5, 99.9]:\n",
    "    print(f\"{p}th percentile = {np.percentile(dfg['Sourcing Cost'], p).round(2)}\")"
   ]
  },
  {
   "attachments": {},
   "cell_type": "markdown",
   "metadata": {},
   "source": [
    "### Capping the price for further analysis and modelling"
   ]
  },
  {
   "cell_type": "code",
   "execution_count": 13,
   "metadata": {},
   "outputs": [],
   "source": [
    "df['Sourcing Cost'] = np.clip(df['Sourcing Cost'], 0, 500)"
   ]
  },
  {
   "cell_type": "code",
   "execution_count": 124,
   "metadata": {},
   "outputs": [
    {
     "data": {
      "image/png": "[encoded data removed]",
      "text/plain": [
       "<Figure size 720x360 with 1 Axes>"
      ]
     },
     "metadata": {
      "needs_background": "light"
     },
     "output_type": "display_data"
    }
   ],
   "source": [
    "display_cdf_plot(df, 'Sourcing Cost')"
   ]
  },
  {
   "cell_type": "code",
   "execution_count": 125,
   "metadata": {},
   "outputs": [
    {
     "data": {
      "image/png": "[encoded data removed]",
      "text/plain": [
       "<Figure size 720x360 with 1 Axes>"
      ]
     },
     "metadata": {
      "needs_background": "light"
     },
     "output_type": "display_data"
    }
   ],
   "source": [
    "display_kde_plot(df, 'Sourcing Cost')"
   ]
  },
  {
   "attachments": {},
   "cell_type": "markdown",
   "metadata": {},
   "source": [
    "### 2.2.3 Bivariate Analysis"
   ]
  },
  {
   "cell_type": "code",
   "execution_count": 138,
   "metadata": {},
   "outputs": [],
   "source": [
    "def display_agg_price(data, column):\n",
    "    print(data.groupby(column).agg(\n",
    "            {'Sourcing Cost' : 'mean'}\n",
    "           ).round(2).reset_index().rename(columns={'Sourcing Cost' : 'Avg Sourcing Cost'})\n",
    "          )"
   ]
  },
  {
   "cell_type": "code",
   "execution_count": 139,
   "metadata": {},
   "outputs": [
    {
     "name": "stdout",
     "output_type": "stream",
     "text": [
      "  ProductType  Avg Sourcing Cost\n",
      "0        NTM1             115.24\n",
      "1        NTM2             121.31\n",
      "2        NTM3              68.77\n"
     ]
    }
   ],
   "source": [
    "display_agg_price(df, 'ProductType')"
   ]
  },
  {
   "cell_type": "code",
   "execution_count": 131,
   "metadata": {},
   "outputs": [
    {
     "data": {
      "image/png": "[encoded data removed]",
      "text/plain": [
       "<Figure size 720x360 with 1 Axes>"
      ]
     },
     "metadata": {
      "needs_background": "light"
     },
     "output_type": "display_data"
    }
   ],
   "source": [
    "display_box_plot_2d(df, 'Sourcing Cost', 'ProductType',)"
   ]
  },
  {
   "attachments": {},
   "cell_type": "markdown",
   "metadata": {},
   "source": [
    "Sourcing cost for NTM3 Product is significantly lower than the other two, hence ProductType seems an important feature"
   ]
  },
  {
   "cell_type": "code",
   "execution_count": 140,
   "metadata": {},
   "outputs": [
    {
     "name": "stdout",
     "output_type": "stream",
     "text": [
      "  Manufacturer  Avg Sourcing Cost\n",
      "0           X1             120.56\n",
      "1           X2              68.19\n",
      "2           X3              49.89\n"
     ]
    }
   ],
   "source": [
    "display_agg_price(df, 'Manufacturer')"
   ]
  },
  {
   "cell_type": "code",
   "execution_count": 141,
   "metadata": {},
   "outputs": [
    {
     "data": {
      "image/png": "[encoded data removed]",
      "text/plain": [
       "<Figure size 720x360 with 1 Axes>"
      ]
     },
     "metadata": {
      "needs_background": "light"
     },
     "output_type": "display_data"
    }
   ],
   "source": [
    "display_box_plot_2d(df, 'Sourcing Cost', 'Manufacturer')"
   ]
  },
  {
   "attachments": {},
   "cell_type": "markdown",
   "metadata": {},
   "source": [
    "Sourcing cost for Manufacturer X1 is significantly higher than that for X2, hence this seems an imp feature"
   ]
  },
  {
   "cell_type": "code",
   "execution_count": 148,
   "metadata": {},
   "outputs": [
    {
     "data": {
      "image/png": "[encoded data removed]",
      "text/plain": [
       "<Figure size 1440x360 with 1 Axes>"
      ]
     },
     "metadata": {
      "needs_background": "light"
     },
     "output_type": "display_data"
    }
   ],
   "source": [
    "plt.rcParams[\"figure.figsize\"] = (20,5)\n",
    "display_box_plot_2d(df, 'Area Code', 'Sourcing Cost', orient='v')"
   ]
  },
  {
   "attachments": {},
   "cell_type": "markdown",
   "metadata": {},
   "source": [
    "There seems to be a lot of variation in Sourcing cost across areas, hence this seems an imp feature"
   ]
  },
  {
   "cell_type": "code",
   "execution_count": 149,
   "metadata": {},
   "outputs": [
    {
     "name": "stdout",
     "output_type": "stream",
     "text": [
      "  Sourcing Channel  Avg Sourcing Cost\n",
      "0           DIRECT             109.31\n",
      "1             ECOM             144.73\n",
      "2           RETAIL              79.65\n",
      "3        WHOLESALE              84.94\n"
     ]
    }
   ],
   "source": [
    "display_agg_price(df, 'Sourcing Channel')"
   ]
  },
  {
   "cell_type": "code",
   "execution_count": 150,
   "metadata": {},
   "outputs": [
    {
     "data": {
      "image/png": "[encoded data removed]",
      "text/plain": [
       "<Figure size 720x360 with 1 Axes>"
      ]
     },
     "metadata": {
      "needs_background": "light"
     },
     "output_type": "display_data"
    }
   ],
   "source": [
    "plt.rcParams[\"figure.figsize\"] = (10,5)\n",
    "display_box_plot_2d(df, 'Sourcing Cost', 'Sourcing Channel')"
   ]
  },
  {
   "attachments": {},
   "cell_type": "markdown",
   "metadata": {},
   "source": [
    "Sourcing cost of ECOMM is significantly higher than that of Direct which is significantly higher than that of RETAIL, significant variation across \"Sourcing channel\" indicates this is an important feature"
   ]
  },
  {
   "cell_type": "code",
   "execution_count": 153,
   "metadata": {},
   "outputs": [
    {
     "data": {
      "image/png": "[encoded data removed]",
      "text/plain": [
       "<Figure size 720x360 with 1 Axes>"
      ]
     },
     "metadata": {
      "needs_background": "light"
     },
     "output_type": "display_data"
    }
   ],
   "source": [
    "display_kde_plot_with_hue(df, 'Sourcing Cost', 'Product Size')"
   ]
  },
  {
   "cell_type": "code",
   "execution_count": 152,
   "metadata": {},
   "outputs": [
    {
     "data": {
      "image/png": "[encoded data removed]",
      "text/plain": [
       "<Figure size 720x360 with 1 Axes>"
      ]
     },
     "metadata": {
      "needs_background": "light"
     },
     "output_type": "display_data"
    }
   ],
   "source": [
    "display_box_plot_2d(df, 'Sourcing Cost', 'Product Size')"
   ]
  },
  {
   "cell_type": "code",
   "execution_count": 151,
   "metadata": {},
   "outputs": [
    {
     "name": "stdout",
     "output_type": "stream",
     "text": [
      "  Product Size  Avg Sourcing Cost\n",
      "0   ExtraLarge              89.74\n",
      "1        Large             108.70\n",
      "2        Small             106.90\n"
     ]
    }
   ],
   "source": [
    "display_agg_price(df, 'Product Size')"
   ]
  },
  {
   "attachments": {},
   "cell_type": "markdown",
   "metadata": {},
   "source": [
    "The KDE/Box plots are almost overlapping for Small/Large product sizes and hence this does not seem to be an important feature"
   ]
  },
  {
   "cell_type": "code",
   "execution_count": 155,
   "metadata": {},
   "outputs": [
    {
     "name": "stdout",
     "output_type": "stream",
     "text": [
      "  Product Type  Avg Sourcing Cost\n",
      "0       Liquid              89.34\n",
      "1       Powder             110.92\n"
     ]
    }
   ],
   "source": [
    "display_agg_price(df, 'Product Type')"
   ]
  },
  {
   "cell_type": "code",
   "execution_count": 154,
   "metadata": {},
   "outputs": [
    {
     "data": {
      "image/png": "[encoded data removed]",
      "text/plain": [
       "<Figure size 720x360 with 1 Axes>"
      ]
     },
     "metadata": {
      "needs_background": "light"
     },
     "output_type": "display_data"
    }
   ],
   "source": [
    "display_box_plot_2d(df, 'Sourcing Cost', 'Product Type')"
   ]
  },
  {
   "attachments": {},
   "cell_type": "markdown",
   "metadata": {},
   "source": [
    "Sourcing cost for \"powder\" is on a higher side as compared to \"liquid\", this seems an imp feature"
   ]
  },
  {
   "cell_type": "code",
   "execution_count": 156,
   "metadata": {},
   "outputs": [
    {
     "name": "stdout",
     "output_type": "stream",
     "text": [
      "   Month of Sourcing  Avg Sourcing Cost\n",
      "0         2020-07-01             101.02\n",
      "1         2020-08-01              99.10\n",
      "2         2020-09-01              95.00\n",
      "3         2020-10-01              96.88\n",
      "4         2020-11-01             106.53\n",
      "5         2020-12-01             112.16\n",
      "6         2021-01-01             111.12\n",
      "7         2021-02-01             118.15\n",
      "8         2021-03-01             118.59\n",
      "9         2021-04-01             111.11\n",
      "10        2021-05-01             109.69\n"
     ]
    }
   ],
   "source": [
    "display_agg_price(df, 'Month of Sourcing')"
   ]
  },
  {
   "attachments": {},
   "cell_type": "markdown",
   "metadata": {},
   "source": [
    "There's not much variation in Sourcing Cost across different months, hence does not seem an important feature"
   ]
  },
  {
   "attachments": {},
   "cell_type": "markdown",
   "metadata": {},
   "source": [
    "# 3. Preprocessing / Feature Engineering\n"
   ]
  },
  {
   "attachments": {},
   "cell_type": "markdown",
   "metadata": {},
   "source": [
    "## 3.1 Train CV split"
   ]
  },
  {
   "attachments": {},
   "cell_type": "markdown",
   "metadata": {},
   "source": [
    "Since this is time series data, we'll do time based splitting instead of random splitting, we're keeping first 10 months of data as train data and last 1 month of data as CV data"
   ]
  },
  {
   "cell_type": "code",
   "execution_count": 117,
   "metadata": {},
   "outputs": [],
   "source": [
    "df_train = df.loc[df['Month of Sourcing'] < '2021-05-01']\n",
    "df_cv = df.loc[df['Month of Sourcing'] == '2021-05-01']"
   ]
  },
  {
   "cell_type": "code",
   "execution_count": 118,
   "metadata": {},
   "outputs": [
    {
     "data": {
      "text/plain": [
       "2020-07-01    42469\n",
       "2020-08-01    40640\n",
       "2020-09-01    43995\n",
       "2020-10-01    46215\n",
       "2020-11-01    60446\n",
       "2020-12-01    52752\n",
       "2021-01-01    50844\n",
       "2021-02-01    50562\n",
       "2021-03-01    56643\n",
       "2021-04-01    52438\n",
       "Name: Month of Sourcing, dtype: int64"
      ]
     },
     "execution_count": 118,
     "metadata": {},
     "output_type": "execute_result"
    }
   ],
   "source": [
    "df_train['Month of Sourcing'].value_counts().sort_index()"
   ]
  },
  {
   "cell_type": "code",
   "execution_count": 119,
   "metadata": {},
   "outputs": [
    {
     "data": {
      "text/plain": [
       "2021-05-01    53172\n",
       "Name: Month of Sourcing, dtype: int64"
      ]
     },
     "execution_count": 119,
     "metadata": {},
     "output_type": "execute_result"
    }
   ],
   "source": [
    "df_cv['Month of Sourcing'].value_counts().sort_index()"
   ]
  },
  {
   "attachments": {},
   "cell_type": "markdown",
   "metadata": {},
   "source": [
    "## 3.2 Average price feature"
   ]
  },
  {
   "attachments": {},
   "cell_type": "markdown",
   "metadata": {},
   "source": [
    "For a given product (combination of columns A-F), we can compute the average Sourcing price for that product for each month and then use this as a feature <br>\n",
    "For each month, we can use the prev. k months average sourcing price as features <br>\n",
    "We can decide \"k\" by hyperparameter tuning"
   ]
  },
  {
   "cell_type": "code",
   "execution_count": 120,
   "metadata": {},
   "outputs": [],
   "source": [
    "df_train.drop(columns=['index'], inplace=True)"
   ]
  },
  {
   "cell_type": "code",
   "execution_count": 121,
   "metadata": {},
   "outputs": [
    {
     "data": {
      "text/html": [
       "<div>\n",
       "<style scoped>\n",
       "    .dataframe tbody tr th:only-of-type {\n",
       "        vertical-align: middle;\n",
       "    }\n",
       "\n",
       "    .dataframe tbody tr th {\n",
       "        vertical-align: top;\n",
       "    }\n",
       "\n",
       "    .dataframe thead th {\n",
       "        text-align: right;\n",
       "    }\n",
       "</style>\n",
       "<table border=\"1\" class=\"dataframe\">\n",
       "  <thead>\n",
       "    <tr style=\"text-align: right;\">\n",
       "      <th></th>\n",
       "      <th>ProductType</th>\n",
       "      <th>Manufacturer</th>\n",
       "      <th>Area Code</th>\n",
       "      <th>Sourcing Channel</th>\n",
       "      <th>Product Size</th>\n",
       "      <th>Product Type</th>\n",
       "      <th>Month of Sourcing</th>\n",
       "      <th>Sourcing Cost</th>\n",
       "      <th>avg_monthly_price</th>\n",
       "    </tr>\n",
       "  </thead>\n",
       "  <tbody>\n",
       "    <tr>\n",
       "      <th>1</th>\n",
       "      <td>NTM2</td>\n",
       "      <td>X1</td>\n",
       "      <td>A9</td>\n",
       "      <td>DIRECT</td>\n",
       "      <td>Large</td>\n",
       "      <td>Powder</td>\n",
       "      <td>2020-10-01</td>\n",
       "      <td>134.281</td>\n",
       "      <td>135.185763</td>\n",
       "    </tr>\n",
       "    <tr>\n",
       "      <th>2</th>\n",
       "      <td>NTM3</td>\n",
       "      <td>X2</td>\n",
       "      <td>A20</td>\n",
       "      <td>DIRECT</td>\n",
       "      <td>Large</td>\n",
       "      <td>Powder</td>\n",
       "      <td>2020-12-01</td>\n",
       "      <td>12.456</td>\n",
       "      <td>30.089574</td>\n",
       "    </tr>\n",
       "    <tr>\n",
       "      <th>3</th>\n",
       "      <td>NTM3</td>\n",
       "      <td>X1</td>\n",
       "      <td>A18</td>\n",
       "      <td>WHOLESALE</td>\n",
       "      <td>Small</td>\n",
       "      <td>Powder</td>\n",
       "      <td>2021-02-01</td>\n",
       "      <td>107.220</td>\n",
       "      <td>106.894342</td>\n",
       "    </tr>\n",
       "    <tr>\n",
       "      <th>4</th>\n",
       "      <td>NTM2</td>\n",
       "      <td>X1</td>\n",
       "      <td>A28</td>\n",
       "      <td>DIRECT</td>\n",
       "      <td>Large</td>\n",
       "      <td>Liquid</td>\n",
       "      <td>2020-11-01</td>\n",
       "      <td>197.763</td>\n",
       "      <td>195.963118</td>\n",
       "    </tr>\n",
       "    <tr>\n",
       "      <th>5</th>\n",
       "      <td>NTM1</td>\n",
       "      <td>X1</td>\n",
       "      <td>A10</td>\n",
       "      <td>DIRECT</td>\n",
       "      <td>Large</td>\n",
       "      <td>Powder</td>\n",
       "      <td>2020-09-01</td>\n",
       "      <td>137.932</td>\n",
       "      <td>138.310950</td>\n",
       "    </tr>\n",
       "  </tbody>\n",
       "</table>\n",
       "</div>"
      ],
      "text/plain": [
       "  ProductType Manufacturer Area Code Sourcing Channel Product Size  \\\n",
       "1        NTM2           X1        A9           DIRECT        Large   \n",
       "2        NTM3           X2       A20           DIRECT        Large   \n",
       "3        NTM3           X1       A18        WHOLESALE        Small   \n",
       "4        NTM2           X1       A28           DIRECT        Large   \n",
       "5        NTM1           X1       A10           DIRECT        Large   \n",
       "\n",
       "  Product Type Month of Sourcing  Sourcing Cost  avg_monthly_price  \n",
       "1       Powder        2020-10-01        134.281         135.185763  \n",
       "2       Powder        2020-12-01         12.456          30.089574  \n",
       "3       Powder        2021-02-01        107.220         106.894342  \n",
       "4       Liquid        2020-11-01        197.763         195.963118  \n",
       "5       Powder        2020-09-01        137.932         138.310950  "
      ]
     },
     "execution_count": 121,
     "metadata": {},
     "output_type": "execute_result"
    }
   ],
   "source": [
    "df_train['avg_monthly_price'] = df_train.groupby(\n",
    "    [ 'ProductType', 'Manufacturer', 'Area Code', 'Sourcing Channel',\n",
    "      'Product Size', 'Product Type', 'Month of Sourcing'\n",
    "    ]\n",
    ")['Sourcing Cost'].transform('mean')\n",
    "df_train.head()"
   ]
  },
  {
   "cell_type": "code",
   "execution_count": 122,
   "metadata": {},
   "outputs": [],
   "source": [
    "df_train = df_train.drop_duplicates()\n",
    "df_cv = df_cv.drop_duplicates()"
   ]
  },
  {
   "cell_type": "code",
   "execution_count": 123,
   "metadata": {},
   "outputs": [],
   "source": [
    "df_train.sort_values(by=['ProductType',\t'Manufacturer',\t'Area Code',\n",
    "                          'Sourcing Channel', 'Product Size',\n",
    "                          'Product Type', 'Month of Sourcing', 'Sourcing Cost'],\n",
    "                     inplace=True\n",
    "                     )"
   ]
  },
  {
   "cell_type": "code",
   "execution_count": 124,
   "metadata": {},
   "outputs": [],
   "source": [
    "def get_prev_month_avg_cost(row, lag_months):\n",
    "    sampled_df = df_train[\n",
    "                    (df_train['ProductType']==row['ProductType']) & \\\n",
    "                    (df_train['Manufacturer']==row['Manufacturer']) & \\\n",
    "                    (df_train['Sourcing Channel']==row['Sourcing Channel']) & \\\n",
    "                    (df_train['Product Size']==row['Product Size']) & \\\n",
    "                    (df_train['Product Type']==row['Product Type']) & \\\n",
    "                    (df_train['Month of Sourcing'] == row['Month of Sourcing']-pd.DateOffset(months=lag_months))\n",
    "                ]\n",
    "    if sampled_df.shape[0] > 0:\n",
    "        return sampled_df['avg_monthly_price'].iloc[0]\n",
    "    \n",
    "    return pd.NA "
   ]
  },
  {
   "cell_type": "code",
   "execution_count": 125,
   "metadata": {},
   "outputs": [],
   "source": [
    "df_train['avg_monthly_price_lag_1'] = df_train.apply(\n",
    "    get_prev_month_avg_cost, lag_months=1, axis=1\n",
    ")\n",
    "\n",
    "df_train['avg_monthly_price_lag_2'] = df_train.apply(\n",
    "    get_prev_month_avg_cost, lag_months=2, axis=1\n",
    ")\n",
    "\n",
    "df_train['avg_monthly_price_lag_3'] = df_train.apply(\n",
    "    get_prev_month_avg_cost, lag_months=3, axis=1\n",
    ")"
   ]
  },
  {
   "cell_type": "code",
   "execution_count": 126,
   "metadata": {},
   "outputs": [
    {
     "data": {
      "text/plain": [
       "ProductType                   0\n",
       "Manufacturer                  0\n",
       "Area Code                     0\n",
       "Sourcing Channel              0\n",
       "Product Size                  0\n",
       "Product Type                  0\n",
       "Month of Sourcing             0\n",
       "Sourcing Cost                 0\n",
       "avg_monthly_price             0\n",
       "avg_monthly_price_lag_1     847\n",
       "avg_monthly_price_lag_2    1641\n",
       "avg_monthly_price_lag_3    2386\n",
       "dtype: int64"
      ]
     },
     "execution_count": 126,
     "metadata": {},
     "output_type": "execute_result"
    }
   ],
   "source": [
    "df_train.isna().sum()"
   ]
  },
  {
   "attachments": {},
   "cell_type": "markdown",
   "metadata": {},
   "source": [
    "There are nulls in lag feature due to 2 reasons:\n",
    "1. The row is from the first month of observation (july 20) in case of nulls in avg_monthly_price_lag_1 or from first/second month of obs. (july/aug 20) in case of nulls in avg_monthly_price_lag_2 or from first/second/third month of obs. (july/aug/sep 20) in case of nulls in \n",
    "avg_monthly_price_lag_3\n",
    "\n",
    "2. The exact given product combination (A-F) did not exist in the previous month"
   ]
  },
  {
   "attachments": {},
   "cell_type": "markdown",
   "metadata": {},
   "source": [
    "Nulls occurring due to (1) are to be handled only at train time, as during test time, we have data from previous 3 months, these can be handled by backfilling, for eg. if avg_monthly_price_lag_1 is null for July-20, for a particular product combination, we impute it with the avg_monthly_price_lag_1 value of the same product combination of Aug-20, again, if avg_monthly_price_lag_2 is null for July-20, for a particular product combination, we impute it with the avg_monthly_price_lag_2 value of the same product combination of Sep-20 (because Aug-20 value of avg_monthly_price_lag_2 is null) and so on\n",
    "\n",
    "Nulls occurring due to (2) can occur also at test time as the exact same product combination might not be present in the prev month(s) data, in this case, we'll use some of the columns from (A-F) so that the corresponding data is more likely to be present in previous month(s)"
   ]
  },
  {
   "attachments": {},
   "cell_type": "markdown",
   "metadata": {},
   "source": [
    "#### Imputing train time nulls by bfill"
   ]
  },
  {
   "cell_type": "code",
   "execution_count": 127,
   "metadata": {},
   "outputs": [],
   "source": [
    "def fill_nans_by_bfill(row, lag_months, lagged_month_feat):\n",
    "    sampled_df = df_train[\n",
    "                    (df_train['ProductType']==row['ProductType']) & \\\n",
    "                    (df_train['Manufacturer']==row['Manufacturer']) & \\\n",
    "                    (df_train['Sourcing Channel']==row['Sourcing Channel']) & \\\n",
    "                    (df_train['Product Size']==row['Product Size']) & \\\n",
    "                    (df_train['Product Type']==row['Product Type']) & \\\n",
    "                    (df_train['Month of Sourcing'] == row['Month of Sourcing'] + pd.DateOffset(months=lag_months))\n",
    "                ]\n",
    "    if sampled_df.shape[0] > 0:\n",
    "        return sampled_df[f'avg_monthly_price_lag_{lagged_month_feat}'].iloc[0]\n",
    "    \n",
    "    return pd.NA "
   ]
  },
  {
   "cell_type": "code",
   "execution_count": 128,
   "metadata": {},
   "outputs": [],
   "source": [
    "df_train.loc[\n",
    "    (df_train['Month of Sourcing']=='2020-07-01') & (df_train.avg_monthly_price_lag_1.isnull()),\n",
    "    'avg_monthly_price_lag_1'\n",
    "] = df_train.loc[\n",
    "        (df_train['Month of Sourcing']=='2020-07-01') & (df_train.avg_monthly_price_lag_1.isnull())\n",
    "    ].apply(fill_nans_by_bfill, lag_months=1, lagged_month_feat=1, axis=1)\n",
    "\n",
    "df_train.loc[\n",
    "    (df_train['Month of Sourcing']=='2020-07-01') & (df_train.avg_monthly_price_lag_2.isnull()),\n",
    "    'avg_monthly_price_lag_2'\n",
    "] = df_train.loc[\n",
    "        (df_train['Month of Sourcing']=='2020-07-01') & (df_train.avg_monthly_price_lag_2.isnull())\n",
    "    ].apply(fill_nans_by_bfill, lag_months=2, lagged_month_feat=2, axis=1)\n",
    "\n",
    "df_train.loc[\n",
    "    (df_train['Month of Sourcing']=='2020-07-01') & (df_train.avg_monthly_price_lag_3.isnull()),\n",
    "    'avg_monthly_price_lag_3'\n",
    "] = df_train.loc[\n",
    "        (df_train['Month of Sourcing']=='2020-07-01') & (df_train.avg_monthly_price_lag_3.isnull())\n",
    "    ].apply(fill_nans_by_bfill, lag_months=3, lagged_month_feat=3, axis=1)\n",
    "\n",
    "df_train.loc[\n",
    "    (df_train['Month of Sourcing']=='2020-08-01') & (df_train.avg_monthly_price_lag_2.isnull()),\n",
    "    'avg_monthly_price_lag_2'\n",
    "] = df_train.loc[\n",
    "        (df_train['Month of Sourcing']=='2020-08-01') & (df_train.avg_monthly_price_lag_2.isnull())\n",
    "    ].apply(fill_nans_by_bfill, lag_months=1, lagged_month_feat=2, axis=1)\n",
    "\n",
    "df_train.loc[\n",
    "    (df_train['Month of Sourcing']=='2020-08-01') & (df_train.avg_monthly_price_lag_3.isnull()),\n",
    "    'avg_monthly_price_lag_3'\n",
    "] = df_train.loc[\n",
    "        (df_train['Month of Sourcing']=='2020-08-01') & (df_train.avg_monthly_price_lag_3.isnull())\n",
    "    ].apply(fill_nans_by_bfill, lag_months=2, lagged_month_feat=3, axis=1)\n",
    "\n",
    "df_train.loc[\n",
    "    (df_train['Month of Sourcing']=='2020-09-01') & (df_train.avg_monthly_price_lag_3.isnull()),\n",
    "    'avg_monthly_price_lag_3'\n",
    "] = df_train.loc[\n",
    "        (df_train['Month of Sourcing']=='2020-09-01') & (df_train.avg_monthly_price_lag_3.isnull())\n",
    "    ].apply(fill_nans_by_bfill, lag_months=1, lagged_month_feat=3, axis=1)"
   ]
  },
  {
   "cell_type": "code",
   "execution_count": 129,
   "metadata": {},
   "outputs": [
    {
     "data": {
      "text/plain": [
       "ProductType                 0\n",
       "Manufacturer                0\n",
       "Area Code                   0\n",
       "Sourcing Channel            0\n",
       "Product Size                0\n",
       "Product Type                0\n",
       "Month of Sourcing           0\n",
       "Sourcing Cost               0\n",
       "avg_monthly_price           0\n",
       "avg_monthly_price_lag_1    12\n",
       "avg_monthly_price_lag_2    40\n",
       "avg_monthly_price_lag_3    67\n",
       "dtype: int64"
      ]
     },
     "execution_count": 129,
     "metadata": {},
     "output_type": "execute_result"
    }
   ],
   "source": [
    "df_train.isna().sum()"
   ]
  },
  {
   "attachments": {},
   "cell_type": "markdown",
   "metadata": {},
   "source": [
    "Now these nulls are present due to the same product (A-F) not being present in the previous month, we'll impute these using a more generalized product which consists of only some of the columns from A-F"
   ]
  },
  {
   "cell_type": "code",
   "execution_count": 130,
   "metadata": {},
   "outputs": [],
   "source": [
    "def fill_nans_test_time(row, lag_months):\n",
    "    # Exclude product size as it has the least impact on sourcing cost\n",
    "    sampled_df = df_train[\n",
    "                    (df_train['ProductType']==row['ProductType']) & \\\n",
    "                    (df_train['Manufacturer']==row['Manufacturer']) & \\\n",
    "                    (df_train['Sourcing Channel']==row['Sourcing Channel']) & \\\n",
    "                    (df_train['Product Type']==row['Product Type']) & \\\n",
    "                    (df_train['Month of Sourcing'] == row['Month of Sourcing'] - pd.DateOffset(months=lag_months))\n",
    "                ]\n",
    "    \n",
    "    if sampled_df.shape[0] > 0:\n",
    "        return sampled_df['avg_monthly_price'].iloc[0]\n",
    "    \n",
    "    # Exclude Product Type\n",
    "    sampled_df = df_train[\n",
    "                    (df_train['ProductType']==row['ProductType']) & \\\n",
    "                    (df_train['Manufacturer']==row['Manufacturer']) & \\\n",
    "                    (df_train['Sourcing Channel']==row['Sourcing Channel']) & \\\n",
    "                    (df_train['Month of Sourcing'] == row['Month of Sourcing'] - pd.DateOffset(months=lag_months))\n",
    "                ]\n",
    "    \n",
    "    if sampled_df.shape[0] > 0:\n",
    "        return sampled_df['avg_monthly_price'].iloc[0]\n",
    "    \n",
    "    # Exclude Sourcing Channel\n",
    "    sampled_df = df_train[\n",
    "                    (df_train['ProductType']==row['ProductType']) & \\\n",
    "                    (df_train['Manufacturer']==row['Manufacturer']) & \\\n",
    "                    (df_train['Month of Sourcing'] == row['Month of Sourcing'] - pd.DateOffset(months=lag_months))\n",
    "                ]\n",
    "    \n",
    "    if sampled_df.shape[0] > 0:\n",
    "        return sampled_df['avg_monthly_price'].iloc[0]\n",
    "    \n",
    "    # Exclude Manufacturer\n",
    "    sampled_df = df_train[\n",
    "                    (df_train['ProductType']==row['ProductType']) & \\\n",
    "                    (df_train['Month of Sourcing'] == row['Month of Sourcing'] - pd.DateOffset(months=lag_months))\n",
    "                ]\n",
    "    \n",
    "    if sampled_df.shape[0] > 0:\n",
    "        return sampled_df['avg_monthly_price'].iloc[0]\n",
    "    \n",
    "    # Exclude ProductType\n",
    "    sampled_df = df_train[\n",
    "                    (df_train['Month of Sourcing'] == row['Month of Sourcing'] - pd.DateOffset(months=lag_months))\n",
    "                ]\n",
    "    \n",
    "    if sampled_df.shape[0] > 0:\n",
    "        return sampled_df['avg_monthly_price'].iloc[0]\n",
    "    \n",
    "    return pd.NA "
   ]
  },
  {
   "cell_type": "code",
   "execution_count": 131,
   "metadata": {},
   "outputs": [],
   "source": [
    "df_train.loc[\n",
    "    df_train.avg_monthly_price_lag_1.isnull(),\n",
    "    'avg_monthly_price_lag_1'\n",
    "] = df_train.loc[\n",
    "        df_train.avg_monthly_price_lag_1.isnull()\n",
    "    ].apply(fill_nans_test_time, lag_months=1, axis=1)\n",
    "\n",
    "df_train.loc[\n",
    "    df_train.avg_monthly_price_lag_2.isnull(),\n",
    "    'avg_monthly_price_lag_2'\n",
    "] = df_train.loc[\n",
    "        df_train.avg_monthly_price_lag_2.isnull()\n",
    "    ].apply(fill_nans_test_time, lag_months=2, axis=1)\n",
    "\n",
    "df_train.loc[\n",
    "    df_train.avg_monthly_price_lag_3.isnull(),\n",
    "    'avg_monthly_price_lag_3'\n",
    "] = df_train.loc[\n",
    "        df_train.avg_monthly_price_lag_3.isnull()\n",
    "    ].apply(fill_nans_test_time, lag_months=3, axis=1)"
   ]
  },
  {
   "cell_type": "code",
   "execution_count": 132,
   "metadata": {},
   "outputs": [
    {
     "data": {
      "text/plain": [
       "ProductType                 0\n",
       "Manufacturer                0\n",
       "Area Code                   0\n",
       "Sourcing Channel            0\n",
       "Product Size                0\n",
       "Product Type                0\n",
       "Month of Sourcing           0\n",
       "Sourcing Cost               0\n",
       "avg_monthly_price           0\n",
       "avg_monthly_price_lag_1     0\n",
       "avg_monthly_price_lag_2     0\n",
       "avg_monthly_price_lag_3    19\n",
       "dtype: int64"
      ]
     },
     "execution_count": 132,
     "metadata": {},
     "output_type": "execute_result"
    }
   ],
   "source": [
    "df_train.isna().sum()"
   ]
  },
  {
   "cell_type": "code",
   "execution_count": 133,
   "metadata": {},
   "outputs": [
    {
     "data": {
      "text/html": [
       "<div>\n",
       "<style scoped>\n",
       "    .dataframe tbody tr th:only-of-type {\n",
       "        vertical-align: middle;\n",
       "    }\n",
       "\n",
       "    .dataframe tbody tr th {\n",
       "        vertical-align: top;\n",
       "    }\n",
       "\n",
       "    .dataframe thead th {\n",
       "        text-align: right;\n",
       "    }\n",
       "</style>\n",
       "<table border=\"1\" class=\"dataframe\">\n",
       "  <thead>\n",
       "    <tr style=\"text-align: right;\">\n",
       "      <th></th>\n",
       "      <th>ProductType</th>\n",
       "      <th>Manufacturer</th>\n",
       "      <th>Area Code</th>\n",
       "      <th>Sourcing Channel</th>\n",
       "      <th>Product Size</th>\n",
       "      <th>Product Type</th>\n",
       "      <th>Month of Sourcing</th>\n",
       "      <th>Sourcing Cost</th>\n",
       "      <th>avg_monthly_price</th>\n",
       "      <th>avg_monthly_price_lag_1</th>\n",
       "      <th>avg_monthly_price_lag_2</th>\n",
       "      <th>avg_monthly_price_lag_3</th>\n",
       "    </tr>\n",
       "  </thead>\n",
       "  <tbody>\n",
       "    <tr>\n",
       "      <th>63129</th>\n",
       "      <td>NTM3</td>\n",
       "      <td>X1</td>\n",
       "      <td>A10</td>\n",
       "      <td>ECOM</td>\n",
       "      <td>Large</td>\n",
       "      <td>Powder</td>\n",
       "      <td>2020-07-01</td>\n",
       "      <td>88.400</td>\n",
       "      <td>109.746667</td>\n",
       "      <td>109.746667</td>\n",
       "      <td>109.746667</td>\n",
       "      <td>&lt;NA&gt;</td>\n",
       "    </tr>\n",
       "    <tr>\n",
       "      <th>59484</th>\n",
       "      <td>NTM3</td>\n",
       "      <td>X1</td>\n",
       "      <td>A10</td>\n",
       "      <td>ECOM</td>\n",
       "      <td>Large</td>\n",
       "      <td>Powder</td>\n",
       "      <td>2020-07-01</td>\n",
       "      <td>130.280</td>\n",
       "      <td>109.746667</td>\n",
       "      <td>109.746667</td>\n",
       "      <td>109.746667</td>\n",
       "      <td>&lt;NA&gt;</td>\n",
       "    </tr>\n",
       "    <tr>\n",
       "      <th>42391</th>\n",
       "      <td>NTM3</td>\n",
       "      <td>X1</td>\n",
       "      <td>A10</td>\n",
       "      <td>ECOM</td>\n",
       "      <td>Large</td>\n",
       "      <td>Powder</td>\n",
       "      <td>2020-07-01</td>\n",
       "      <td>131.500</td>\n",
       "      <td>109.746667</td>\n",
       "      <td>109.746667</td>\n",
       "      <td>109.746667</td>\n",
       "      <td>&lt;NA&gt;</td>\n",
       "    </tr>\n",
       "    <tr>\n",
       "      <th>79073</th>\n",
       "      <td>NTM3</td>\n",
       "      <td>X1</td>\n",
       "      <td>A10</td>\n",
       "      <td>ECOM</td>\n",
       "      <td>Large</td>\n",
       "      <td>Powder</td>\n",
       "      <td>2020-08-01</td>\n",
       "      <td>131.795</td>\n",
       "      <td>132.566308</td>\n",
       "      <td>109.746667</td>\n",
       "      <td>109.746667</td>\n",
       "      <td>&lt;NA&gt;</td>\n",
       "    </tr>\n",
       "    <tr>\n",
       "      <th>5731</th>\n",
       "      <td>NTM3</td>\n",
       "      <td>X1</td>\n",
       "      <td>A10</td>\n",
       "      <td>ECOM</td>\n",
       "      <td>Large</td>\n",
       "      <td>Powder</td>\n",
       "      <td>2020-08-01</td>\n",
       "      <td>132.509</td>\n",
       "      <td>132.566308</td>\n",
       "      <td>109.746667</td>\n",
       "      <td>109.746667</td>\n",
       "      <td>&lt;NA&gt;</td>\n",
       "    </tr>\n",
       "    <tr>\n",
       "      <th>106739</th>\n",
       "      <td>NTM3</td>\n",
       "      <td>X1</td>\n",
       "      <td>A10</td>\n",
       "      <td>ECOM</td>\n",
       "      <td>Large</td>\n",
       "      <td>Powder</td>\n",
       "      <td>2020-08-01</td>\n",
       "      <td>133.175</td>\n",
       "      <td>132.566308</td>\n",
       "      <td>109.746667</td>\n",
       "      <td>109.746667</td>\n",
       "      <td>&lt;NA&gt;</td>\n",
       "    </tr>\n",
       "    <tr>\n",
       "      <th>124726</th>\n",
       "      <td>NTM3</td>\n",
       "      <td>X1</td>\n",
       "      <td>A10</td>\n",
       "      <td>ECOM</td>\n",
       "      <td>Large</td>\n",
       "      <td>Powder</td>\n",
       "      <td>2020-08-01</td>\n",
       "      <td>133.350</td>\n",
       "      <td>132.566308</td>\n",
       "      <td>109.746667</td>\n",
       "      <td>109.746667</td>\n",
       "      <td>&lt;NA&gt;</td>\n",
       "    </tr>\n",
       "    <tr>\n",
       "      <th>13373</th>\n",
       "      <td>NTM3</td>\n",
       "      <td>X1</td>\n",
       "      <td>A10</td>\n",
       "      <td>ECOM</td>\n",
       "      <td>Large</td>\n",
       "      <td>Powder</td>\n",
       "      <td>2020-09-01</td>\n",
       "      <td>107.404</td>\n",
       "      <td>120.482800</td>\n",
       "      <td>132.566308</td>\n",
       "      <td>109.746667</td>\n",
       "      <td>&lt;NA&gt;</td>\n",
       "    </tr>\n",
       "    <tr>\n",
       "      <th>132413</th>\n",
       "      <td>NTM3</td>\n",
       "      <td>X1</td>\n",
       "      <td>A10</td>\n",
       "      <td>ECOM</td>\n",
       "      <td>Large</td>\n",
       "      <td>Powder</td>\n",
       "      <td>2020-09-01</td>\n",
       "      <td>131.680</td>\n",
       "      <td>120.482800</td>\n",
       "      <td>132.566308</td>\n",
       "      <td>109.746667</td>\n",
       "      <td>&lt;NA&gt;</td>\n",
       "    </tr>\n",
       "    <tr>\n",
       "      <th>6987</th>\n",
       "      <td>NTM3</td>\n",
       "      <td>X1</td>\n",
       "      <td>A10</td>\n",
       "      <td>ECOM</td>\n",
       "      <td>Large</td>\n",
       "      <td>Powder</td>\n",
       "      <td>2020-09-01</td>\n",
       "      <td>134.032</td>\n",
       "      <td>120.482800</td>\n",
       "      <td>132.566308</td>\n",
       "      <td>109.746667</td>\n",
       "      <td>&lt;NA&gt;</td>\n",
       "    </tr>\n",
       "    <tr>\n",
       "      <th>152764</th>\n",
       "      <td>NTM3</td>\n",
       "      <td>X1</td>\n",
       "      <td>A25</td>\n",
       "      <td>RETAIL</td>\n",
       "      <td>Large</td>\n",
       "      <td>Powder</td>\n",
       "      <td>2020-09-01</td>\n",
       "      <td>127.714</td>\n",
       "      <td>128.518873</td>\n",
       "      <td>155.652119</td>\n",
       "      <td>149.976756</td>\n",
       "      <td>&lt;NA&gt;</td>\n",
       "    </tr>\n",
       "    <tr>\n",
       "      <th>138794</th>\n",
       "      <td>NTM3</td>\n",
       "      <td>X1</td>\n",
       "      <td>A25</td>\n",
       "      <td>RETAIL</td>\n",
       "      <td>Large</td>\n",
       "      <td>Powder</td>\n",
       "      <td>2020-09-01</td>\n",
       "      <td>128.701</td>\n",
       "      <td>128.518873</td>\n",
       "      <td>155.652119</td>\n",
       "      <td>149.976756</td>\n",
       "      <td>&lt;NA&gt;</td>\n",
       "    </tr>\n",
       "    <tr>\n",
       "      <th>138720</th>\n",
       "      <td>NTM3</td>\n",
       "      <td>X1</td>\n",
       "      <td>A25</td>\n",
       "      <td>RETAIL</td>\n",
       "      <td>Large</td>\n",
       "      <td>Powder</td>\n",
       "      <td>2020-09-01</td>\n",
       "      <td>128.704</td>\n",
       "      <td>128.518873</td>\n",
       "      <td>155.652119</td>\n",
       "      <td>149.976756</td>\n",
       "      <td>&lt;NA&gt;</td>\n",
       "    </tr>\n",
       "    <tr>\n",
       "      <th>143733</th>\n",
       "      <td>NTM3</td>\n",
       "      <td>X1</td>\n",
       "      <td>A25</td>\n",
       "      <td>RETAIL</td>\n",
       "      <td>Large</td>\n",
       "      <td>Powder</td>\n",
       "      <td>2020-09-01</td>\n",
       "      <td>128.709</td>\n",
       "      <td>128.518873</td>\n",
       "      <td>155.652119</td>\n",
       "      <td>149.976756</td>\n",
       "      <td>&lt;NA&gt;</td>\n",
       "    </tr>\n",
       "    <tr>\n",
       "      <th>143364</th>\n",
       "      <td>NTM3</td>\n",
       "      <td>X1</td>\n",
       "      <td>A25</td>\n",
       "      <td>RETAIL</td>\n",
       "      <td>Large</td>\n",
       "      <td>Powder</td>\n",
       "      <td>2020-09-01</td>\n",
       "      <td>128.711</td>\n",
       "      <td>128.518873</td>\n",
       "      <td>155.652119</td>\n",
       "      <td>149.976756</td>\n",
       "      <td>&lt;NA&gt;</td>\n",
       "    </tr>\n",
       "    <tr>\n",
       "      <th>140003</th>\n",
       "      <td>NTM3</td>\n",
       "      <td>X1</td>\n",
       "      <td>A25</td>\n",
       "      <td>RETAIL</td>\n",
       "      <td>Small</td>\n",
       "      <td>Powder</td>\n",
       "      <td>2020-09-01</td>\n",
       "      <td>64.350</td>\n",
       "      <td>64.351993</td>\n",
       "      <td>155.652119</td>\n",
       "      <td>149.976756</td>\n",
       "      <td>&lt;NA&gt;</td>\n",
       "    </tr>\n",
       "    <tr>\n",
       "      <th>139437</th>\n",
       "      <td>NTM3</td>\n",
       "      <td>X1</td>\n",
       "      <td>A25</td>\n",
       "      <td>RETAIL</td>\n",
       "      <td>Small</td>\n",
       "      <td>Powder</td>\n",
       "      <td>2020-09-01</td>\n",
       "      <td>64.352</td>\n",
       "      <td>64.351993</td>\n",
       "      <td>155.652119</td>\n",
       "      <td>149.976756</td>\n",
       "      <td>&lt;NA&gt;</td>\n",
       "    </tr>\n",
       "    <tr>\n",
       "      <th>140541</th>\n",
       "      <td>NTM3</td>\n",
       "      <td>X1</td>\n",
       "      <td>A25</td>\n",
       "      <td>RETAIL</td>\n",
       "      <td>Small</td>\n",
       "      <td>Powder</td>\n",
       "      <td>2020-09-01</td>\n",
       "      <td>64.355</td>\n",
       "      <td>64.351993</td>\n",
       "      <td>155.652119</td>\n",
       "      <td>149.976756</td>\n",
       "      <td>&lt;NA&gt;</td>\n",
       "    </tr>\n",
       "    <tr>\n",
       "      <th>139326</th>\n",
       "      <td>NTM3</td>\n",
       "      <td>X1</td>\n",
       "      <td>A25</td>\n",
       "      <td>RETAIL</td>\n",
       "      <td>Small</td>\n",
       "      <td>Powder</td>\n",
       "      <td>2020-09-01</td>\n",
       "      <td>64.356</td>\n",
       "      <td>64.351993</td>\n",
       "      <td>155.652119</td>\n",
       "      <td>149.976756</td>\n",
       "      <td>&lt;NA&gt;</td>\n",
       "    </tr>\n",
       "  </tbody>\n",
       "</table>\n",
       "</div>"
      ],
      "text/plain": [
       "       ProductType Manufacturer Area Code Sourcing Channel Product Size  \\\n",
       "63129         NTM3           X1       A10             ECOM        Large   \n",
       "59484         NTM3           X1       A10             ECOM        Large   \n",
       "42391         NTM3           X1       A10             ECOM        Large   \n",
       "79073         NTM3           X1       A10             ECOM        Large   \n",
       "5731          NTM3           X1       A10             ECOM        Large   \n",
       "106739        NTM3           X1       A10             ECOM        Large   \n",
       "124726        NTM3           X1       A10             ECOM        Large   \n",
       "13373         NTM3           X1       A10             ECOM        Large   \n",
       "132413        NTM3           X1       A10             ECOM        Large   \n",
       "6987          NTM3           X1       A10             ECOM        Large   \n",
       "152764        NTM3           X1       A25           RETAIL        Large   \n",
       "138794        NTM3           X1       A25           RETAIL        Large   \n",
       "138720        NTM3           X1       A25           RETAIL        Large   \n",
       "143733        NTM3           X1       A25           RETAIL        Large   \n",
       "143364        NTM3           X1       A25           RETAIL        Large   \n",
       "140003        NTM3           X1       A25           RETAIL        Small   \n",
       "139437        NTM3           X1       A25           RETAIL        Small   \n",
       "140541        NTM3           X1       A25           RETAIL        Small   \n",
       "139326        NTM3           X1       A25           RETAIL        Small   \n",
       "\n",
       "       Product Type Month of Sourcing  Sourcing Cost  avg_monthly_price  \\\n",
       "63129        Powder        2020-07-01         88.400         109.746667   \n",
       "59484        Powder        2020-07-01        130.280         109.746667   \n",
       "42391        Powder        2020-07-01        131.500         109.746667   \n",
       "79073        Powder        2020-08-01        131.795         132.566308   \n",
       "5731         Powder        2020-08-01        132.509         132.566308   \n",
       "106739       Powder        2020-08-01        133.175         132.566308   \n",
       "124726       Powder        2020-08-01        133.350         132.566308   \n",
       "13373        Powder        2020-09-01        107.404         120.482800   \n",
       "132413       Powder        2020-09-01        131.680         120.482800   \n",
       "6987         Powder        2020-09-01        134.032         120.482800   \n",
       "152764       Powder        2020-09-01        127.714         128.518873   \n",
       "138794       Powder        2020-09-01        128.701         128.518873   \n",
       "138720       Powder        2020-09-01        128.704         128.518873   \n",
       "143733       Powder        2020-09-01        128.709         128.518873   \n",
       "143364       Powder        2020-09-01        128.711         128.518873   \n",
       "140003       Powder        2020-09-01         64.350          64.351993   \n",
       "139437       Powder        2020-09-01         64.352          64.351993   \n",
       "140541       Powder        2020-09-01         64.355          64.351993   \n",
       "139326       Powder        2020-09-01         64.356          64.351993   \n",
       "\n",
       "       avg_monthly_price_lag_1 avg_monthly_price_lag_2 avg_monthly_price_lag_3  \n",
       "63129               109.746667              109.746667                    <NA>  \n",
       "59484               109.746667              109.746667                    <NA>  \n",
       "42391               109.746667              109.746667                    <NA>  \n",
       "79073               109.746667              109.746667                    <NA>  \n",
       "5731                109.746667              109.746667                    <NA>  \n",
       "106739              109.746667              109.746667                    <NA>  \n",
       "124726              109.746667              109.746667                    <NA>  \n",
       "13373               132.566308              109.746667                    <NA>  \n",
       "132413              132.566308              109.746667                    <NA>  \n",
       "6987                132.566308              109.746667                    <NA>  \n",
       "152764              155.652119              149.976756                    <NA>  \n",
       "138794              155.652119              149.976756                    <NA>  \n",
       "138720              155.652119              149.976756                    <NA>  \n",
       "143733              155.652119              149.976756                    <NA>  \n",
       "143364              155.652119              149.976756                    <NA>  \n",
       "140003              155.652119              149.976756                    <NA>  \n",
       "139437              155.652119              149.976756                    <NA>  \n",
       "140541              155.652119              149.976756                    <NA>  \n",
       "139326              155.652119              149.976756                    <NA>  "
      ]
     },
     "execution_count": 133,
     "metadata": {},
     "output_type": "execute_result"
    }
   ],
   "source": [
    "df_train[df_train.avg_monthly_price_lag_3.isna()]"
   ]
  },
  {
   "attachments": {},
   "cell_type": "markdown",
   "metadata": {},
   "source": [
    "These are NAs which got missed at train time, we can impute them with lag_2 features as they're anyways very less in number"
   ]
  },
  {
   "cell_type": "code",
   "execution_count": 134,
   "metadata": {},
   "outputs": [],
   "source": [
    "df_train.loc[df_train.avg_monthly_price_lag_3.isna(), 'avg_monthly_price_lag_3'] = \\\n",
    "      df_train.loc[df_train.avg_monthly_price_lag_3.isna(), 'avg_monthly_price_lag_2']"
   ]
  },
  {
   "cell_type": "code",
   "execution_count": 135,
   "metadata": {},
   "outputs": [
    {
     "data": {
      "text/plain": [
       "ProductType                0\n",
       "Manufacturer               0\n",
       "Area Code                  0\n",
       "Sourcing Channel           0\n",
       "Product Size               0\n",
       "Product Type               0\n",
       "Month of Sourcing          0\n",
       "Sourcing Cost              0\n",
       "avg_monthly_price          0\n",
       "avg_monthly_price_lag_1    0\n",
       "avg_monthly_price_lag_2    0\n",
       "avg_monthly_price_lag_3    0\n",
       "dtype: int64"
      ]
     },
     "execution_count": 135,
     "metadata": {},
     "output_type": "execute_result"
    }
   ],
   "source": [
    "df_train.isna().sum()"
   ]
  },
  {
   "cell_type": "code",
   "execution_count": 156,
   "metadata": {},
   "outputs": [],
   "source": [
    "def get_prev_month_avg_cost(row, lag_months):\n",
    "    # Include all columns A-F\n",
    "    sampled_df = df_train[\n",
    "                    (df_train['ProductType']==row['ProductType']) & \\\n",
    "                    (df_train['Manufacturer']==row['Manufacturer']) & \\\n",
    "                    (df_train['Sourcing Channel']==row['Sourcing Channel']) & \\\n",
    "                    (df_train['Product Size']==row['Product Size']) & \\\n",
    "                    (df_train['Product Type']==row['Product Type']) & \\\n",
    "                    (df_train['Month of Sourcing'] == row['Month of Sourcing']-pd.DateOffset(months=lag_months))\n",
    "                ]\n",
    "    if sampled_df.shape[0] > 0:\n",
    "        return sampled_df['avg_monthly_price'].iloc[0]\n",
    "    \n",
    "    # Exclude product size as it has the least impact on sourcing cost\n",
    "    sampled_df = df_train[\n",
    "                    (df_train['ProductType']==row['ProductType']) & \\\n",
    "                    (df_train['Manufacturer']==row['Manufacturer']) & \\\n",
    "                    (df_train['Sourcing Channel']==row['Sourcing Channel']) & \\\n",
    "                    (df_train['Product Type']==row['Product Type']) & \\\n",
    "                    (df_train['Month of Sourcing'] == row['Month of Sourcing'] - pd.DateOffset(months=lag_months))\n",
    "                ]\n",
    "    \n",
    "    if sampled_df.shape[0] > 0:\n",
    "        return sampled_df['avg_monthly_price'].iloc[0]\n",
    "    \n",
    "    # Exclude Product Type\n",
    "    sampled_df = df_train[\n",
    "                    (df_train['ProductType']==row['ProductType']) & \\\n",
    "                    (df_train['Manufacturer']==row['Manufacturer']) & \\\n",
    "                    (df_train['Sourcing Channel']==row['Sourcing Channel']) & \\\n",
    "                    (df_train['Month of Sourcing'] == row['Month of Sourcing'] - pd.DateOffset(months=lag_months))\n",
    "                ]\n",
    "    \n",
    "    if sampled_df.shape[0] > 0:\n",
    "        return sampled_df['avg_monthly_price'].iloc[0]\n",
    "    \n",
    "    # Exclude Sourcing Channel\n",
    "    sampled_df = df_train[\n",
    "                    (df_train['ProductType']==row['ProductType']) & \\\n",
    "                    (df_train['Manufacturer']==row['Manufacturer']) & \\\n",
    "                    (df_train['Month of Sourcing'] == row['Month of Sourcing'] - pd.DateOffset(months=lag_months))\n",
    "                ]\n",
    "    \n",
    "    if sampled_df.shape[0] > 0:\n",
    "        return sampled_df['avg_monthly_price'].iloc[0]\n",
    "    \n",
    "    # Exclude Manufacturer\n",
    "    sampled_df = df_train[\n",
    "                    (df_train['ProductType']==row['ProductType']) & \\\n",
    "                    (df_train['Month of Sourcing'] == row['Month of Sourcing'] - pd.DateOffset(months=lag_months))\n",
    "                ]\n",
    "    \n",
    "    if sampled_df.shape[0] > 0:\n",
    "        return sampled_df['avg_monthly_price'].iloc[0]\n",
    "    \n",
    "    # Exclude ProductType\n",
    "    sampled_df = df_train[\n",
    "                    (df_train['Month of Sourcing'] == row['Month of Sourcing'] - pd.DateOffset(months=lag_months))\n",
    "                ]\n",
    "    \n",
    "    if sampled_df.shape[0] > 0:\n",
    "        return sampled_df['avg_monthly_price'].iloc[0]\n",
    "    \n",
    "    return pd.NA "
   ]
  },
  {
   "cell_type": "code",
   "execution_count": 138,
   "metadata": {},
   "outputs": [],
   "source": [
    "df_cv.drop(columns=['index'], inplace=True)"
   ]
  },
  {
   "cell_type": "code",
   "execution_count": 154,
   "metadata": {},
   "outputs": [
    {
     "name": "stdout",
     "output_type": "stream",
     "text": [
      "lag 1 features computed\n",
      "lag 2 features computed\n",
      "lag 3 features computed\n"
     ]
    }
   ],
   "source": [
    "df_cv['avg_monthly_price_lag_1'] = df_cv.apply(\n",
    "    get_prev_month_avg_cost, lag_months=1, axis=1\n",
    ")\n",
    "print(\"lag 1 features computed\")\n",
    "\n",
    "df_cv['avg_monthly_price_lag_2'] = df_cv.apply(\n",
    "    get_prev_month_avg_cost, lag_months=2, axis=1\n",
    ")\n",
    "print(\"lag 2 features computed\")\n",
    "\n",
    "df_cv['avg_monthly_price_lag_3'] = df_cv.apply(\n",
    "    get_prev_month_avg_cost, lag_months=3, axis=1\n",
    ")\n",
    "print(\"lag 3 features computed\")"
   ]
  },
  {
   "cell_type": "code",
   "execution_count": 158,
   "metadata": {},
   "outputs": [
    {
     "data": {
      "text/plain": [
       "ProductType                0\n",
       "Manufacturer               0\n",
       "Area Code                  0\n",
       "Sourcing Channel           0\n",
       "Product Size               0\n",
       "Product Type               0\n",
       "Month of Sourcing          0\n",
       "Sourcing Cost              0\n",
       "avg_monthly_price_lag_1    0\n",
       "avg_monthly_price_lag_2    0\n",
       "avg_monthly_price_lag_3    0\n",
       "dtype: int64"
      ]
     },
     "execution_count": 158,
     "metadata": {},
     "output_type": "execute_result"
    }
   ],
   "source": [
    "df_cv.isna().sum()"
   ]
  },
  {
   "cell_type": "code",
   "execution_count": 173,
   "metadata": {},
   "outputs": [],
   "source": [
    "df_train.to_csv('df_train.csv', index=False)\n",
    "df_cv.to_csv('df_cv.csv', index=False)"
   ]
  },
  {
   "attachments": {},
   "cell_type": "markdown",
   "metadata": {},
   "source": [
    "## 3.3 One Hot Encoding"
   ]
  },
  {
   "cell_type": "code",
   "execution_count": 287,
   "metadata": {},
   "outputs": [],
   "source": [
    "ohes = []\n",
    "ohe_features_train = []\n",
    "ohe_features_cv = []\n",
    "\n",
    "for col in df_train.columns[:6]:\n",
    "    enc = OneHotEncoder()\n",
    "    enc.fit(np.asarray(df_train[col]).reshape(-1, 1))\n",
    "    ohe_features_train.append(enc.transform(np.asarray(df_train[col]).reshape(-1, 1)))\n",
    "    ohe_features_cv.append(enc.transform(np.asarray(df_cv[col]).reshape(-1, 1)))\n",
    "    ohes.append(enc)"
   ]
  },
  {
   "attachments": {},
   "cell_type": "markdown",
   "metadata": {},
   "source": [
    "## 3.4 Standard Scaling"
   ]
  },
  {
   "cell_type": "code",
   "execution_count": 288,
   "metadata": {},
   "outputs": [],
   "source": [
    "scalers = []\n",
    "scaled_features_train = []\n",
    "scaled_features_cv = []\n",
    "\n",
    "for col in ['avg_monthly_price_lag_1', 'avg_monthly_price_lag_2', 'avg_monthly_price_lag_3']:\n",
    "    scal = StandardScaler()\n",
    "    scal.fit(np.asarray(df_train[col]).reshape(-1, 1))\n",
    "    scaled_features_train.append(scal.transform(np.asarray(df_train[col]).reshape(-1, 1)))\n",
    "    scaled_features_cv.append(scal.transform(np.asarray(df_cv[col]).reshape(-1, 1)))\n",
    "    scalers.append(scal)"
   ]
  },
  {
   "attachments": {},
   "cell_type": "markdown",
   "metadata": {},
   "source": [
    "## 3.5 Combining the features"
   ]
  },
  {
   "cell_type": "code",
   "execution_count": 178,
   "metadata": {},
   "outputs": [],
   "source": [
    "X_tr = hstack(\n",
    "    (\n",
    "        ohe_features_train[0], ohe_features_train[1], ohe_features_train[2],\n",
    "        ohe_features_train[3], ohe_features_train[4], ohe_features_train[5],\n",
    "        scaled_features_train[0], scaled_features_train[1], scaled_features_train[2]\n",
    "    )\n",
    ")\n",
    "\n",
    "X_cv = hstack(\n",
    "    (\n",
    "        ohe_features_cv[0], ohe_features_cv[1], ohe_features_cv[2],\n",
    "        ohe_features_cv[3], ohe_features_cv[4], ohe_features_cv[5],\n",
    "        scaled_features_cv[0], scaled_features_cv[1], scaled_features_cv[2]\n",
    "    )\n",
    ")"
   ]
  },
  {
   "cell_type": "code",
   "execution_count": 179,
   "metadata": {},
   "outputs": [
    {
     "name": "stdout",
     "output_type": "stream",
     "text": [
      "(7806, 63)\n",
      "(709, 63)\n"
     ]
    }
   ],
   "source": [
    "print(X_tr.shape)\n",
    "print(X_cv.shape)"
   ]
  },
  {
   "attachments": {},
   "cell_type": "markdown",
   "metadata": {},
   "source": [
    "## 3.6 Creating y-label"
   ]
  },
  {
   "cell_type": "code",
   "execution_count": 190,
   "metadata": {},
   "outputs": [],
   "source": [
    "y_train = df_train['Sourcing Cost'].reset_index(drop=True)\n",
    "y_cv = df_cv['Sourcing Cost'].reset_index(drop=True)"
   ]
  },
  {
   "attachments": {},
   "cell_type": "markdown",
   "metadata": {},
   "source": [
    "# 4. Selecting performance metric"
   ]
  },
  {
   "attachments": {},
   "cell_type": "markdown",
   "metadata": {},
   "source": [
    "RMSE seems a good performance metric as it's a regression setting"
   ]
  },
  {
   "cell_type": "code",
   "execution_count": 199,
   "metadata": {},
   "outputs": [],
   "source": [
    "def rmse(y_true, y_pred):\n",
    "    return np.sqrt(mean_squared_error(y_true, y_pred)).round(2)"
   ]
  },
  {
   "attachments": {},
   "cell_type": "markdown",
   "metadata": {},
   "source": [
    "# 5. Modelling"
   ]
  },
  {
   "attachments": {},
   "cell_type": "markdown",
   "metadata": {},
   "source": [
    "## 5.1 Baseline model (mean model)"
   ]
  },
  {
   "cell_type": "code",
   "execution_count": 200,
   "metadata": {},
   "outputs": [
    {
     "name": "stdout",
     "output_type": "stream",
     "text": [
      "Train RMSE = 74.31\n",
      "CV RMSE = 67.85\n"
     ]
    }
   ],
   "source": [
    "y_pred_train = [y_train.mean()]*y_train.shape[0]\n",
    "y_pred_cv = [y_train.mean()]*y_cv.shape[0]\n",
    "print(f\"Train RMSE = {rmse(y_train, y_pred_train)}\")\n",
    "print(f\"CV RMSE = {rmse(y_cv, y_pred_cv)}\")"
   ]
  },
  {
   "attachments": {},
   "cell_type": "markdown",
   "metadata": {},
   "source": [
    "## 5.2 Linear Regression"
   ]
  },
  {
   "cell_type": "code",
   "execution_count": 202,
   "metadata": {},
   "outputs": [
    {
     "name": "stdout",
     "output_type": "stream",
     "text": [
      "Train RMSE = 53.67\n",
      "CV RMSE = 54.59\n"
     ]
    }
   ],
   "source": [
    "lr = LinearRegression(n_jobs=-1)\n",
    "lr.fit(X_tr, y_train)\n",
    "y_pred_train = lr.predict(X_tr)\n",
    "y_pred_cv = lr.predict(X_cv)\n",
    "print(f\"Train RMSE = {rmse(y_train, y_pred_train)}\")\n",
    "print(f\"CV RMSE = {rmse(y_cv, y_pred_cv)}\")"
   ]
  },
  {
   "attachments": {},
   "cell_type": "markdown",
   "metadata": {},
   "source": [
    "## 5.3 Ridge regression (with HP tuning)"
   ]
  },
  {
   "cell_type": "code",
   "execution_count": 204,
   "metadata": {},
   "outputs": [
    {
     "name": "stdout",
     "output_type": "stream",
     "text": [
      "alpha = 0.001\n",
      "Train RMSE = 53.67\n",
      "CV RMSE = 54.6\n",
      "\n",
      "alpha = 0.01\n",
      "Train RMSE = 53.67\n",
      "CV RMSE = 54.6\n",
      "\n",
      "alpha = 0.1\n",
      "Train RMSE = 53.67\n",
      "CV RMSE = 54.59\n",
      "\n",
      "alpha = 1\n",
      "Train RMSE = 53.68\n",
      "CV RMSE = 54.58\n",
      "\n",
      "alpha = 10\n",
      "Train RMSE = 53.86\n",
      "CV RMSE = 54.5\n",
      "\n",
      "alpha = 100\n",
      "Train RMSE = 56.3\n",
      "CV RMSE = 55.42\n",
      "\n",
      "alpha = 1000\n",
      "Train RMSE = 61.38\n",
      "CV RMSE = 57.41\n",
      "\n"
     ]
    }
   ],
   "source": [
    "for alpha in [10**x for x in range(-3, 4)]:\n",
    "    lr = Ridge(alpha=alpha)\n",
    "    lr.fit(X_tr, y_train)\n",
    "    y_pred_train = lr.predict(X_tr)\n",
    "    y_pred_cv = lr.predict(X_cv)\n",
    "    print(f\"alpha = {alpha}\")\n",
    "    print(f\"Train RMSE = {rmse(y_train, y_pred_train)}\")\n",
    "    print(f\"CV RMSE = {rmse(y_cv, y_pred_cv)}\")\n",
    "    print()"
   ]
  },
  {
   "attachments": {},
   "cell_type": "markdown",
   "metadata": {},
   "source": [
    "Linear Regression (even with HP tuning seems to be underfitting which is expected since linear models have high bias)"
   ]
  },
  {
   "attachments": {},
   "cell_type": "markdown",
   "metadata": {},
   "source": [
    "## 5.4 Boosting (LGBM)"
   ]
  },
  {
   "cell_type": "code",
   "execution_count": 224,
   "metadata": {},
   "outputs": [
    {
     "name": "stdout",
     "output_type": "stream",
     "text": [
      "Train RMSE = 48.04\n",
      "CV RMSE = 54.22\n"
     ]
    }
   ],
   "source": [
    "lgbm_model = lgbm.LGBMRegressor(random_state=21, n_jobs=-1)\n",
    "lgbm_model.fit(X_tr, y_train)\n",
    "y_pred_train = lgbm_model.predict(X_tr)\n",
    "y_pred_cv = lgbm_model.predict(X_cv)\n",
    "print(f\"Train RMSE = {rmse(y_train, y_pred_train)}\")\n",
    "print(f\"CV RMSE = {rmse(y_cv, y_pred_cv)}\")"
   ]
  },
  {
   "cell_type": "code",
   "execution_count": 217,
   "metadata": {},
   "outputs": [],
   "source": [
    "X_tr_df = pd.DataFrame(X_tr.toarray())\n",
    "X_cv_df = pd.DataFrame(X_cv.toarray())\n",
    "X_df = pd.concat([X_tr_df, X_cv_df]).reset_index(drop=True)\n",
    "y_df = pd.concat([y_train, y_cv]).reset_index(drop=True)"
   ]
  },
  {
   "cell_type": "code",
   "execution_count": 227,
   "metadata": {},
   "outputs": [],
   "source": [
    "parameters = {\n",
    "    'n_estimators' : [100, 200, 300, 400, 500],\n",
    "    'max_depth' : [1,3,5,7],\n",
    "    'learning_rate' : [0.025, 0.05, 0.1, 0.2],\n",
    "    'subsample' : [0.2, 0.4, 0.6, 0.8, 1],\n",
    "    'colsample_bytree' : [0.2, 0.4, 0.6, 0.8, 1],\n",
    "}\n",
    "lgbm_model = lgbm.LGBMRegressor(random_state=21, n_jobs=-1)"
   ]
  },
  {
   "cell_type": "code",
   "execution_count": 228,
   "metadata": {},
   "outputs": [
    {
     "data": {
      "text/plain": [
       "GridSearchCV(cv=PredefinedSplit(test_fold=array([-1, -1, ...,  0,  0])),\n",
       "             estimator=LGBMRegressor(random_state=21), n_jobs=-1,\n",
       "             param_grid={'colsample_bytree': [0.2, 0.4, 0.6, 0.8, 1],\n",
       "                         'learning_rate': [0.025, 0.05, 0.1, 0.2],\n",
       "                         'max_depth': [1, 3, 5, 7],\n",
       "                         'n_estimators': [100, 200, 300, 400, 500],\n",
       "                         'subsample': [0.2, 0.4, 0.6, 0.8, 1]},\n",
       "             scoring='neg_root_mean_squared_error')"
      ]
     },
     "execution_count": 228,
     "metadata": {},
     "output_type": "execute_result"
    }
   ],
   "source": [
    "split_index = [-1]*X_tr_df.shape[0] + [0]*X_cv_df.shape[0]\n",
    "pds = PredefinedSplit(test_fold = split_index)\n",
    "clf = GridSearchCV(estimator = lgbm_model,\n",
    "                   cv=pds,\n",
    "                   param_grid=parameters,\n",
    "                   scoring='neg_root_mean_squared_error',\n",
    "                   n_jobs=-1)\n",
    "\n",
    "# Fit with all data\n",
    "clf.fit(X_df, y_df)"
   ]
  },
  {
   "cell_type": "code",
   "execution_count": 235,
   "metadata": {},
   "outputs": [
    {
     "data": {
      "text/plain": [
       "{'colsample_bytree': 0.2,\n",
       " 'learning_rate': 0.1,\n",
       " 'max_depth': 7,\n",
       " 'n_estimators': 200,\n",
       " 'subsample': 0.2}"
      ]
     },
     "execution_count": 235,
     "metadata": {},
     "output_type": "execute_result"
    }
   ],
   "source": [
    "clf.best_params_"
   ]
  },
  {
   "cell_type": "code",
   "execution_count": 236,
   "metadata": {},
   "outputs": [
    {
     "name": "stdout",
     "output_type": "stream",
     "text": [
      "Train RMSE = 49.05\n",
      "CV RMSE = 51.05\n"
     ]
    }
   ],
   "source": [
    "lgbm_model = lgbm.LGBMRegressor(\n",
    "    colsample_bytree=0.2,\n",
    "    learning_rate=0.1,\n",
    "    max_depth=7,\n",
    "    n_estimators=200,\n",
    "    subsample=0.2,\n",
    "    random_state=21,\n",
    "    n_jobs=-1\n",
    ")\n",
    "lgbm_model.fit(X_tr, y_train)\n",
    "y_pred_train = lgbm_model.predict(X_tr)\n",
    "y_pred_cv = lgbm_model.predict(X_cv)\n",
    "print(f\"Train RMSE = {rmse(y_train, y_pred_train)}\")\n",
    "print(f\"CV RMSE = {rmse(y_cv, y_pred_cv)}\")"
   ]
  },
  {
   "attachments": {},
   "cell_type": "markdown",
   "metadata": {},
   "source": [
    "## 5.5 Training the final model"
   ]
  },
  {
   "attachments": {},
   "cell_type": "markdown",
   "metadata": {},
   "source": [
    "LGBM with hyperaparameter tuning gives the best results and hence we choose it as our final model"
   ]
  },
  {
   "cell_type": "code",
   "execution_count": 243,
   "metadata": {},
   "outputs": [
    {
     "data": {
      "text/plain": [
       "LGBMRegressor(colsample_bytree=0.2, max_depth=7, n_estimators=200,\n",
       "              random_state=21, subsample=0.2)"
      ]
     },
     "execution_count": 243,
     "metadata": {},
     "output_type": "execute_result"
    }
   ],
   "source": [
    "lgbm_model = lgbm.LGBMRegressor(\n",
    "    colsample_bytree=0.2,\n",
    "    learning_rate=0.1,\n",
    "    max_depth=7,\n",
    "    n_estimators=200,\n",
    "    subsample=0.2,\n",
    "    random_state=21,\n",
    "    n_jobs=-1\n",
    ")\n",
    "lgbm_model.fit(X_df, y_df)"
   ]
  },
  {
   "attachments": {},
   "cell_type": "markdown",
   "metadata": {},
   "source": [
    "## 5.6 Preprocessing the test set"
   ]
  },
  {
   "cell_type": "code",
   "execution_count": 277,
   "metadata": {},
   "outputs": [],
   "source": [
    "df_test = pd.read_excel('DS_ML Coding Challenge Dataset.xlsx', sheet_name=2)\n",
    "df_test['Month of Sourcing'] = df_test['Month of Sourcing'] - pd.DateOffset(days=20)"
   ]
  },
  {
   "cell_type": "code",
   "execution_count": 247,
   "metadata": {},
   "outputs": [
    {
     "data": {
      "text/html": [
       "<div>\n",
       "<style scoped>\n",
       "    .dataframe tbody tr th:only-of-type {\n",
       "        vertical-align: middle;\n",
       "    }\n",
       "\n",
       "    .dataframe tbody tr th {\n",
       "        vertical-align: top;\n",
       "    }\n",
       "\n",
       "    .dataframe thead th {\n",
       "        text-align: right;\n",
       "    }\n",
       "</style>\n",
       "<table border=\"1\" class=\"dataframe\">\n",
       "  <thead>\n",
       "    <tr style=\"text-align: right;\">\n",
       "      <th></th>\n",
       "      <th>ProductType</th>\n",
       "      <th>Manufacturer</th>\n",
       "      <th>Area Code</th>\n",
       "      <th>Sourcing Channel</th>\n",
       "      <th>Product Size</th>\n",
       "      <th>Product Type</th>\n",
       "      <th>Month of Sourcing</th>\n",
       "      <th>Sourcing Cost</th>\n",
       "      <th>avg_monthly_price_lag_1</th>\n",
       "      <th>avg_monthly_price_lag_2</th>\n",
       "      <th>avg_monthly_price_lag_3</th>\n",
       "      <th>avg_monthly_price</th>\n",
       "    </tr>\n",
       "  </thead>\n",
       "  <tbody>\n",
       "    <tr>\n",
       "      <th>0</th>\n",
       "      <td>NTM3</td>\n",
       "      <td>X1</td>\n",
       "      <td>A28</td>\n",
       "      <td>WHOLESALE</td>\n",
       "      <td>Large</td>\n",
       "      <td>Powder</td>\n",
       "      <td>2021-05-01</td>\n",
       "      <td>10.158</td>\n",
       "      <td>14.74986</td>\n",
       "      <td>37.074920</td>\n",
       "      <td>80.170400</td>\n",
       "      <td>58.760000</td>\n",
       "    </tr>\n",
       "    <tr>\n",
       "      <th>45</th>\n",
       "      <td>NTM2</td>\n",
       "      <td>X1</td>\n",
       "      <td>A9</td>\n",
       "      <td>DIRECT</td>\n",
       "      <td>Large</td>\n",
       "      <td>Powder</td>\n",
       "      <td>2021-05-01</td>\n",
       "      <td>148.396</td>\n",
       "      <td>75.837137</td>\n",
       "      <td>146.268369</td>\n",
       "      <td>116.629300</td>\n",
       "      <td>148.076800</td>\n",
       "    </tr>\n",
       "    <tr>\n",
       "      <th>49</th>\n",
       "      <td>NTM1</td>\n",
       "      <td>X2</td>\n",
       "      <td>A30</td>\n",
       "      <td>RETAIL</td>\n",
       "      <td>Small</td>\n",
       "      <td>Powder</td>\n",
       "      <td>2021-05-01</td>\n",
       "      <td>41.040</td>\n",
       "      <td>25.17789</td>\n",
       "      <td>28.244732</td>\n",
       "      <td>30.140524</td>\n",
       "      <td>30.369000</td>\n",
       "    </tr>\n",
       "    <tr>\n",
       "      <th>50</th>\n",
       "      <td>NTM1</td>\n",
       "      <td>X1</td>\n",
       "      <td>A10</td>\n",
       "      <td>DIRECT</td>\n",
       "      <td>Large</td>\n",
       "      <td>Powder</td>\n",
       "      <td>2021-05-01</td>\n",
       "      <td>156.789</td>\n",
       "      <td>152.542206</td>\n",
       "      <td>148.601538</td>\n",
       "      <td>169.954570</td>\n",
       "      <td>153.326857</td>\n",
       "    </tr>\n",
       "    <tr>\n",
       "      <th>54</th>\n",
       "      <td>NTM1</td>\n",
       "      <td>X1</td>\n",
       "      <td>A2</td>\n",
       "      <td>ECOM</td>\n",
       "      <td>Small</td>\n",
       "      <td>Powder</td>\n",
       "      <td>2021-05-01</td>\n",
       "      <td>174.828</td>\n",
       "      <td>173.269936</td>\n",
       "      <td>171.757087</td>\n",
       "      <td>174.769755</td>\n",
       "      <td>174.828000</td>\n",
       "    </tr>\n",
       "  </tbody>\n",
       "</table>\n",
       "</div>"
      ],
      "text/plain": [
       "   ProductType Manufacturer Area Code Sourcing Channel Product Size  \\\n",
       "0         NTM3           X1       A28        WHOLESALE        Large   \n",
       "45        NTM2           X1        A9           DIRECT        Large   \n",
       "49        NTM1           X2       A30           RETAIL        Small   \n",
       "50        NTM1           X1       A10           DIRECT        Large   \n",
       "54        NTM1           X1        A2             ECOM        Small   \n",
       "\n",
       "   Product Type Month of Sourcing  Sourcing Cost avg_monthly_price_lag_1  \\\n",
       "0        Powder        2021-05-01         10.158                14.74986   \n",
       "45       Powder        2021-05-01        148.396               75.837137   \n",
       "49       Powder        2021-05-01         41.040                25.17789   \n",
       "50       Powder        2021-05-01        156.789              152.542206   \n",
       "54       Powder        2021-05-01        174.828              173.269936   \n",
       "\n",
       "    avg_monthly_price_lag_2  avg_monthly_price_lag_3  avg_monthly_price  \n",
       "0                 37.074920                80.170400          58.760000  \n",
       "45               146.268369               116.629300         148.076800  \n",
       "49                28.244732                30.140524          30.369000  \n",
       "50               148.601538               169.954570         153.326857  \n",
       "54               171.757087               174.769755         174.828000  "
      ]
     },
     "execution_count": 247,
     "metadata": {},
     "output_type": "execute_result"
    }
   ],
   "source": [
    "df_cv['avg_monthly_price'] = df_cv.groupby(\n",
    "    [ 'ProductType', 'Manufacturer', 'Area Code', 'Sourcing Channel',\n",
    "      'Product Size', 'Product Type', 'Month of Sourcing'\n",
    "    ]\n",
    ")['Sourcing Cost'].transform('mean')\n",
    "df_cv.head()"
   ]
  },
  {
   "cell_type": "code",
   "execution_count": 252,
   "metadata": {},
   "outputs": [
    {
     "data": {
      "text/html": [
       "<div>\n",
       "<style scoped>\n",
       "    .dataframe tbody tr th:only-of-type {\n",
       "        vertical-align: middle;\n",
       "    }\n",
       "\n",
       "    .dataframe tbody tr th {\n",
       "        vertical-align: top;\n",
       "    }\n",
       "\n",
       "    .dataframe thead th {\n",
       "        text-align: right;\n",
       "    }\n",
       "</style>\n",
       "<table border=\"1\" class=\"dataframe\">\n",
       "  <thead>\n",
       "    <tr style=\"text-align: right;\">\n",
       "      <th></th>\n",
       "      <th>ProductType</th>\n",
       "      <th>Manufacturer</th>\n",
       "      <th>Area Code</th>\n",
       "      <th>Sourcing Channel</th>\n",
       "      <th>Product Size</th>\n",
       "      <th>Product Type</th>\n",
       "      <th>Month of Sourcing</th>\n",
       "      <th>Sourcing Cost</th>\n",
       "      <th>avg_monthly_price_lag_1</th>\n",
       "      <th>avg_monthly_price_lag_2</th>\n",
       "      <th>avg_monthly_price_lag_3</th>\n",
       "      <th>avg_monthly_price</th>\n",
       "    </tr>\n",
       "  </thead>\n",
       "  <tbody>\n",
       "    <tr>\n",
       "      <th>0</th>\n",
       "      <td>NTM1</td>\n",
       "      <td>X1</td>\n",
       "      <td>A1</td>\n",
       "      <td>DIRECT</td>\n",
       "      <td>Small</td>\n",
       "      <td>Powder</td>\n",
       "      <td>2020-07-01</td>\n",
       "      <td>82.428</td>\n",
       "      <td>108.093218</td>\n",
       "      <td>108.093218</td>\n",
       "      <td>108.093218</td>\n",
       "      <td>108.093218</td>\n",
       "    </tr>\n",
       "    <tr>\n",
       "      <th>1</th>\n",
       "      <td>NTM1</td>\n",
       "      <td>X1</td>\n",
       "      <td>A1</td>\n",
       "      <td>DIRECT</td>\n",
       "      <td>Small</td>\n",
       "      <td>Powder</td>\n",
       "      <td>2020-07-01</td>\n",
       "      <td>89.489</td>\n",
       "      <td>108.093218</td>\n",
       "      <td>108.093218</td>\n",
       "      <td>108.093218</td>\n",
       "      <td>108.093218</td>\n",
       "    </tr>\n",
       "    <tr>\n",
       "      <th>2</th>\n",
       "      <td>NTM1</td>\n",
       "      <td>X1</td>\n",
       "      <td>A1</td>\n",
       "      <td>DIRECT</td>\n",
       "      <td>Small</td>\n",
       "      <td>Powder</td>\n",
       "      <td>2020-07-01</td>\n",
       "      <td>95.089</td>\n",
       "      <td>108.093218</td>\n",
       "      <td>108.093218</td>\n",
       "      <td>108.093218</td>\n",
       "      <td>108.093218</td>\n",
       "    </tr>\n",
       "    <tr>\n",
       "      <th>3</th>\n",
       "      <td>NTM1</td>\n",
       "      <td>X1</td>\n",
       "      <td>A1</td>\n",
       "      <td>DIRECT</td>\n",
       "      <td>Small</td>\n",
       "      <td>Powder</td>\n",
       "      <td>2020-07-01</td>\n",
       "      <td>100.372</td>\n",
       "      <td>108.093218</td>\n",
       "      <td>108.093218</td>\n",
       "      <td>108.093218</td>\n",
       "      <td>108.093218</td>\n",
       "    </tr>\n",
       "    <tr>\n",
       "      <th>4</th>\n",
       "      <td>NTM1</td>\n",
       "      <td>X1</td>\n",
       "      <td>A1</td>\n",
       "      <td>DIRECT</td>\n",
       "      <td>Small</td>\n",
       "      <td>Powder</td>\n",
       "      <td>2020-07-01</td>\n",
       "      <td>104.454</td>\n",
       "      <td>108.093218</td>\n",
       "      <td>108.093218</td>\n",
       "      <td>108.093218</td>\n",
       "      <td>108.093218</td>\n",
       "    </tr>\n",
       "  </tbody>\n",
       "</table>\n",
       "</div>"
      ],
      "text/plain": [
       "  ProductType Manufacturer Area Code Sourcing Channel Product Size  \\\n",
       "0        NTM1           X1        A1           DIRECT        Small   \n",
       "1        NTM1           X1        A1           DIRECT        Small   \n",
       "2        NTM1           X1        A1           DIRECT        Small   \n",
       "3        NTM1           X1        A1           DIRECT        Small   \n",
       "4        NTM1           X1        A1           DIRECT        Small   \n",
       "\n",
       "  Product Type Month of Sourcing  Sourcing Cost  avg_monthly_price_lag_1  \\\n",
       "0       Powder        2020-07-01         82.428               108.093218   \n",
       "1       Powder        2020-07-01         89.489               108.093218   \n",
       "2       Powder        2020-07-01         95.089               108.093218   \n",
       "3       Powder        2020-07-01        100.372               108.093218   \n",
       "4       Powder        2020-07-01        104.454               108.093218   \n",
       "\n",
       "   avg_monthly_price_lag_2  avg_monthly_price_lag_3  avg_monthly_price  \n",
       "0               108.093218               108.093218         108.093218  \n",
       "1               108.093218               108.093218         108.093218  \n",
       "2               108.093218               108.093218         108.093218  \n",
       "3               108.093218               108.093218         108.093218  \n",
       "4               108.093218               108.093218         108.093218  "
      ]
     },
     "execution_count": 252,
     "metadata": {},
     "output_type": "execute_result"
    }
   ],
   "source": [
    "train_avg_mnthly_price = df_train['avg_monthly_price']\n",
    "df_train.drop(columns=['avg_monthly_price'], inplace=True)\n",
    "df_train['avg_monthly_price'] = train_avg_mnthly_price\n",
    "df_train.head()"
   ]
  },
  {
   "cell_type": "code",
   "execution_count": 254,
   "metadata": {},
   "outputs": [
    {
     "data": {
      "text/html": [
       "<div>\n",
       "<style scoped>\n",
       "    .dataframe tbody tr th:only-of-type {\n",
       "        vertical-align: middle;\n",
       "    }\n",
       "\n",
       "    .dataframe tbody tr th {\n",
       "        vertical-align: top;\n",
       "    }\n",
       "\n",
       "    .dataframe thead th {\n",
       "        text-align: right;\n",
       "    }\n",
       "</style>\n",
       "<table border=\"1\" class=\"dataframe\">\n",
       "  <thead>\n",
       "    <tr style=\"text-align: right;\">\n",
       "      <th></th>\n",
       "      <th>ProductType</th>\n",
       "      <th>Manufacturer</th>\n",
       "      <th>Area Code</th>\n",
       "      <th>Sourcing Channel</th>\n",
       "      <th>Product Size</th>\n",
       "      <th>Product Type</th>\n",
       "      <th>Month of Sourcing</th>\n",
       "      <th>Sourcing Cost</th>\n",
       "      <th>avg_monthly_price_lag_1</th>\n",
       "      <th>avg_monthly_price_lag_2</th>\n",
       "      <th>avg_monthly_price_lag_3</th>\n",
       "      <th>avg_monthly_price</th>\n",
       "    </tr>\n",
       "  </thead>\n",
       "  <tbody>\n",
       "    <tr>\n",
       "      <th>0</th>\n",
       "      <td>NTM1</td>\n",
       "      <td>X1</td>\n",
       "      <td>A1</td>\n",
       "      <td>DIRECT</td>\n",
       "      <td>Small</td>\n",
       "      <td>Powder</td>\n",
       "      <td>2020-07-01</td>\n",
       "      <td>82.428</td>\n",
       "      <td>108.093218</td>\n",
       "      <td>108.093218</td>\n",
       "      <td>108.093218</td>\n",
       "      <td>108.093218</td>\n",
       "    </tr>\n",
       "    <tr>\n",
       "      <th>1</th>\n",
       "      <td>NTM1</td>\n",
       "      <td>X1</td>\n",
       "      <td>A1</td>\n",
       "      <td>DIRECT</td>\n",
       "      <td>Small</td>\n",
       "      <td>Powder</td>\n",
       "      <td>2020-07-01</td>\n",
       "      <td>89.489</td>\n",
       "      <td>108.093218</td>\n",
       "      <td>108.093218</td>\n",
       "      <td>108.093218</td>\n",
       "      <td>108.093218</td>\n",
       "    </tr>\n",
       "    <tr>\n",
       "      <th>2</th>\n",
       "      <td>NTM1</td>\n",
       "      <td>X1</td>\n",
       "      <td>A1</td>\n",
       "      <td>DIRECT</td>\n",
       "      <td>Small</td>\n",
       "      <td>Powder</td>\n",
       "      <td>2020-07-01</td>\n",
       "      <td>95.089</td>\n",
       "      <td>108.093218</td>\n",
       "      <td>108.093218</td>\n",
       "      <td>108.093218</td>\n",
       "      <td>108.093218</td>\n",
       "    </tr>\n",
       "    <tr>\n",
       "      <th>3</th>\n",
       "      <td>NTM1</td>\n",
       "      <td>X1</td>\n",
       "      <td>A1</td>\n",
       "      <td>DIRECT</td>\n",
       "      <td>Small</td>\n",
       "      <td>Powder</td>\n",
       "      <td>2020-07-01</td>\n",
       "      <td>100.372</td>\n",
       "      <td>108.093218</td>\n",
       "      <td>108.093218</td>\n",
       "      <td>108.093218</td>\n",
       "      <td>108.093218</td>\n",
       "    </tr>\n",
       "    <tr>\n",
       "      <th>4</th>\n",
       "      <td>NTM1</td>\n",
       "      <td>X1</td>\n",
       "      <td>A1</td>\n",
       "      <td>DIRECT</td>\n",
       "      <td>Small</td>\n",
       "      <td>Powder</td>\n",
       "      <td>2020-07-01</td>\n",
       "      <td>104.454</td>\n",
       "      <td>108.093218</td>\n",
       "      <td>108.093218</td>\n",
       "      <td>108.093218</td>\n",
       "      <td>108.093218</td>\n",
       "    </tr>\n",
       "  </tbody>\n",
       "</table>\n",
       "</div>"
      ],
      "text/plain": [
       "  ProductType Manufacturer Area Code Sourcing Channel Product Size  \\\n",
       "0        NTM1           X1        A1           DIRECT        Small   \n",
       "1        NTM1           X1        A1           DIRECT        Small   \n",
       "2        NTM1           X1        A1           DIRECT        Small   \n",
       "3        NTM1           X1        A1           DIRECT        Small   \n",
       "4        NTM1           X1        A1           DIRECT        Small   \n",
       "\n",
       "  Product Type Month of Sourcing  Sourcing Cost avg_monthly_price_lag_1  \\\n",
       "0       Powder        2020-07-01         82.428              108.093218   \n",
       "1       Powder        2020-07-01         89.489              108.093218   \n",
       "2       Powder        2020-07-01         95.089              108.093218   \n",
       "3       Powder        2020-07-01        100.372              108.093218   \n",
       "4       Powder        2020-07-01        104.454              108.093218   \n",
       "\n",
       "   avg_monthly_price_lag_2  avg_monthly_price_lag_3  avg_monthly_price  \n",
       "0               108.093218               108.093218         108.093218  \n",
       "1               108.093218               108.093218         108.093218  \n",
       "2               108.093218               108.093218         108.093218  \n",
       "3               108.093218               108.093218         108.093218  \n",
       "4               108.093218               108.093218         108.093218  "
      ]
     },
     "execution_count": 254,
     "metadata": {},
     "output_type": "execute_result"
    }
   ],
   "source": [
    "df = pd.concat([df_train, df_cv])\n",
    "df.head()"
   ]
  },
  {
   "cell_type": "code",
   "execution_count": 266,
   "metadata": {},
   "outputs": [],
   "source": [
    "df['Month of Sourcing'] = pd.to_datetime(df['Month of Sourcing'])"
   ]
  },
  {
   "cell_type": "code",
   "execution_count": 267,
   "metadata": {},
   "outputs": [],
   "source": [
    "def get_prev_month_avg_cost(row, lag_months):\n",
    "    # Include all columns A-F\n",
    "    sampled_df = df[\n",
    "                    (df['ProductType']==row['ProductType']) & \\\n",
    "                    (df['Manufacturer']==row['Manufacturer']) & \\\n",
    "                    (df['Sourcing Channel']==row['Sourcing Channel']) & \\\n",
    "                    (df['Product Size']==row['Product Size']) & \\\n",
    "                    (df['Product Type']==row['Product Type']) & \\\n",
    "                    (df['Month of Sourcing'] == row['Month of Sourcing']-pd.DateOffset(months=lag_months))\n",
    "                ]\n",
    "    if sampled_df.shape[0] > 0:\n",
    "        return sampled_df['avg_monthly_price'].iloc[0]\n",
    "    \n",
    "    # Exclude product size as it has the least impact on sourcing cost\n",
    "    sampled_df = df[\n",
    "                    (df['ProductType']==row['ProductType']) & \\\n",
    "                    (df['Manufacturer']==row['Manufacturer']) & \\\n",
    "                    (df['Sourcing Channel']==row['Sourcing Channel']) & \\\n",
    "                    (df['Product Type']==row['Product Type']) & \\\n",
    "                    (df['Month of Sourcing'] == row['Month of Sourcing'] - pd.DateOffset(months=lag_months))\n",
    "                ]\n",
    "    \n",
    "    if sampled_df.shape[0] > 0:\n",
    "        return sampled_df['avg_monthly_price'].iloc[0]\n",
    "    \n",
    "    # Exclude Product Type\n",
    "    sampled_df = df[\n",
    "                    (df['ProductType']==row['ProductType']) & \\\n",
    "                    (df['Manufacturer']==row['Manufacturer']) & \\\n",
    "                    (df['Sourcing Channel']==row['Sourcing Channel']) & \\\n",
    "                    (df['Month of Sourcing'] == row['Month of Sourcing'] - pd.DateOffset(months=lag_months))\n",
    "                ]\n",
    "    \n",
    "    if sampled_df.shape[0] > 0:\n",
    "        return sampled_df['avg_monthly_price'].iloc[0]\n",
    "    \n",
    "    # Exclude Sourcing Channel\n",
    "    sampled_df = df[\n",
    "                    (df['ProductType']==row['ProductType']) & \\\n",
    "                    (df['Manufacturer']==row['Manufacturer']) & \\\n",
    "                    (df['Month of Sourcing'] == row['Month of Sourcing'] - pd.DateOffset(months=lag_months))\n",
    "                ]\n",
    "    \n",
    "    if sampled_df.shape[0] > 0:\n",
    "        return sampled_df['avg_monthly_price'].iloc[0]\n",
    "    \n",
    "    # Exclude Manufacturer\n",
    "    sampled_df = df[\n",
    "                    (df['ProductType']==row['ProductType']) & \\\n",
    "                    (df['Month of Sourcing'] == row['Month of Sourcing'] - pd.DateOffset(months=lag_months))\n",
    "                ]\n",
    "    \n",
    "    if sampled_df.shape[0] > 0:\n",
    "        return sampled_df['avg_monthly_price'].iloc[0]\n",
    "    \n",
    "    # Exclude ProductType\n",
    "    sampled_df = df[\n",
    "                    (df['Month of Sourcing'] == row['Month of Sourcing'] - pd.DateOffset(months=lag_months))\n",
    "                ]\n",
    "    \n",
    "    if sampled_df.shape[0] > 0:\n",
    "        return sampled_df['avg_monthly_price'].iloc[0]\n",
    "    \n",
    "    return pd.NA "
   ]
  },
  {
   "cell_type": "code",
   "execution_count": 283,
   "metadata": {},
   "outputs": [],
   "source": [
    "df_test['avg_monthly_price_lag_1'] = df_test.apply(\n",
    "    get_prev_month_avg_cost, lag_months=1, axis=1\n",
    ")\n",
    "\n",
    "df_test['avg_monthly_price_lag_2'] = df_test.apply(\n",
    "    get_prev_month_avg_cost, lag_months=2, axis=1\n",
    ")\n",
    "\n",
    "df_test['avg_monthly_price_lag_3'] = df_test.apply(\n",
    "    get_prev_month_avg_cost, lag_months=3, axis=1\n",
    ")"
   ]
  },
  {
   "cell_type": "code",
   "execution_count": 290,
   "metadata": {},
   "outputs": [],
   "source": [
    "ohe_features_test = []\n",
    "for idx, ohe in enumerate(ohes):\n",
    "    ohe_features_test.append(\n",
    "        ohe.transform(np.asarray(df_test.iloc[:, idx]).reshape(-1, 1))\n",
    "    )"
   ]
  },
  {
   "cell_type": "code",
   "execution_count": 292,
   "metadata": {},
   "outputs": [],
   "source": [
    "scaled_features_test = []\n",
    "for idx, scal in enumerate(scalers, start=8):\n",
    "    scaled_features_test.append(\n",
    "        scal.transform(np.asarray(df_test.iloc[:, idx]).reshape(-1, 1))\n",
    "    )"
   ]
  },
  {
   "cell_type": "code",
   "execution_count": 298,
   "metadata": {},
   "outputs": [],
   "source": [
    "X_te = hstack((\n",
    "    ohe_features_test[0], ohe_features_test[1], ohe_features_test[2],\n",
    "    ohe_features_test[3], ohe_features_test[4], ohe_features_test[5],\n",
    "    scaled_features_test[0], scaled_features_test[1], scaled_features_test[2]\n",
    "))"
   ]
  },
  {
   "cell_type": "code",
   "execution_count": 300,
   "metadata": {},
   "outputs": [],
   "source": [
    "y_test = df_test['Sourcing Cost'].reset_index(drop=True)"
   ]
  },
  {
   "attachments": {},
   "cell_type": "markdown",
   "metadata": {},
   "source": [
    "## 5.7 Final Predictions"
   ]
  },
  {
   "cell_type": "code",
   "execution_count": 301,
   "metadata": {},
   "outputs": [
    {
     "name": "stdout",
     "output_type": "stream",
     "text": [
      "Test RMSE = 38.38\n"
     ]
    }
   ],
   "source": [
    "y_test_pred = lgbm_model.predict(X_te)\n",
    "print(f\"Test RMSE = {rmse(y_test, y_test_pred)}\")"
   ]
  },
  {
   "cell_type": "code",
   "execution_count": 303,
   "metadata": {},
   "outputs": [],
   "source": [
    "df_test.drop(\n",
    "    columns=['avg_monthly_price_lag_1', 'avg_monthly_price_lag_2', 'avg_monthly_price_lag_3'],\n",
    "    inplace=True\n",
    ")"
   ]
  },
  {
   "cell_type": "code",
   "execution_count": 306,
   "metadata": {},
   "outputs": [],
   "source": [
    "df_test['Predicted Sourcing Cost'] = y_test_pred.round(2)\n",
    "df_test.to_excel('df_test_pred.xlsx', index=False)"
   ]
  }
 ],
 "metadata": {
  "kernelspec": {
   "display_name": "base",
   "language": "python",
   "name": "python3"
  },
  "language_info": {
   "codemirror_mode": {
    "name": "ipython",
    "version": 3
   },
   "file_extension": ".py",
   "mimetype": "text/x-python",
   "name": "python",
   "nbconvert_exporter": "python",
   "pygments_lexer": "ipython3",
   "version": "3.7.6"
  },
  "orig_nbformat": 4
 },
 "nbformat": 4,
 "nbformat_minor": 2
}
